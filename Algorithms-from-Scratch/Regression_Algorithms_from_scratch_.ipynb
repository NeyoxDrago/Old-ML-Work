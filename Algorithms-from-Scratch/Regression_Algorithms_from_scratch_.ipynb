{
  "nbformat": 4,
  "nbformat_minor": 0,
  "metadata": {
    "colab": {
      "name": "Regression Algorithms from scratch .ipynb",
      "provenance": [],
      "collapsed_sections": [],
      "authorship_tag": "ABX9TyP4U4Z08iUh3TG6gJaMhh9F",
      "include_colab_link": true
    },
    "kernelspec": {
      "name": "python3",
      "display_name": "Python 3"
    },
    "widgets": {
      "application/vnd.jupyter.widget-state+json": {
        "3b1c54802b304751af42dcd8dd12a51b": {
          "model_module": "@jupyter-widgets/controls",
          "model_name": "HBoxModel",
          "state": {
            "_view_name": "HBoxView",
            "_dom_classes": [],
            "_model_name": "HBoxModel",
            "_view_module": "@jupyter-widgets/controls",
            "_model_module_version": "1.5.0",
            "_view_count": null,
            "_view_module_version": "1.5.0",
            "box_style": "",
            "layout": "IPY_MODEL_8076b1bd43254116a2691e548694b73b",
            "_model_module": "@jupyter-widgets/controls",
            "children": [
              "IPY_MODEL_0b4d38108fc041409f142585c688a5b0",
              "IPY_MODEL_42c3f56d285b42fe8e79f64f9419fd17"
            ]
          }
        },
        "8076b1bd43254116a2691e548694b73b": {
          "model_module": "@jupyter-widgets/base",
          "model_name": "LayoutModel",
          "state": {
            "_view_name": "LayoutView",
            "grid_template_rows": null,
            "right": null,
            "justify_content": null,
            "_view_module": "@jupyter-widgets/base",
            "overflow": null,
            "_model_module_version": "1.2.0",
            "_view_count": null,
            "flex_flow": null,
            "width": null,
            "min_width": null,
            "border": null,
            "align_items": null,
            "bottom": null,
            "_model_module": "@jupyter-widgets/base",
            "top": null,
            "grid_column": null,
            "overflow_y": null,
            "overflow_x": null,
            "grid_auto_flow": null,
            "grid_area": null,
            "grid_template_columns": null,
            "flex": null,
            "_model_name": "LayoutModel",
            "justify_items": null,
            "grid_row": null,
            "max_height": null,
            "align_content": null,
            "visibility": null,
            "align_self": null,
            "height": null,
            "min_height": null,
            "padding": null,
            "grid_auto_rows": null,
            "grid_gap": null,
            "max_width": null,
            "order": null,
            "_view_module_version": "1.2.0",
            "grid_template_areas": null,
            "object_position": null,
            "object_fit": null,
            "grid_auto_columns": null,
            "margin": null,
            "display": null,
            "left": null
          }
        },
        "0b4d38108fc041409f142585c688a5b0": {
          "model_module": "@jupyter-widgets/controls",
          "model_name": "FloatProgressModel",
          "state": {
            "_view_name": "ProgressView",
            "style": "IPY_MODEL_e48e9df7bf2c404fb7827e6c978bff17",
            "_dom_classes": [],
            "description": "  0%",
            "_model_name": "FloatProgressModel",
            "bar_style": "danger",
            "max": 1000,
            "_view_module": "@jupyter-widgets/controls",
            "_model_module_version": "1.5.0",
            "value": 0,
            "_view_count": null,
            "_view_module_version": "1.5.0",
            "orientation": "horizontal",
            "min": 0,
            "description_tooltip": null,
            "_model_module": "@jupyter-widgets/controls",
            "layout": "IPY_MODEL_f69e321247a04e64b1cab6493c4fd01f"
          }
        },
        "42c3f56d285b42fe8e79f64f9419fd17": {
          "model_module": "@jupyter-widgets/controls",
          "model_name": "HTMLModel",
          "state": {
            "_view_name": "HTMLView",
            "style": "IPY_MODEL_e4fca1c3a74249a791af8fc2d9de1c58",
            "_dom_classes": [],
            "description": "",
            "_model_name": "HTMLModel",
            "placeholder": "​",
            "_view_module": "@jupyter-widgets/controls",
            "_model_module_version": "1.5.0",
            "value": " 0/1000 [00:00&lt;?, ?it/s]",
            "_view_count": null,
            "_view_module_version": "1.5.0",
            "description_tooltip": null,
            "_model_module": "@jupyter-widgets/controls",
            "layout": "IPY_MODEL_b6c53d97a129460192bbc9b07c588d4e"
          }
        },
        "e48e9df7bf2c404fb7827e6c978bff17": {
          "model_module": "@jupyter-widgets/controls",
          "model_name": "ProgressStyleModel",
          "state": {
            "_view_name": "StyleView",
            "_model_name": "ProgressStyleModel",
            "description_width": "initial",
            "_view_module": "@jupyter-widgets/base",
            "_model_module_version": "1.5.0",
            "_view_count": null,
            "_view_module_version": "1.2.0",
            "bar_color": null,
            "_model_module": "@jupyter-widgets/controls"
          }
        },
        "f69e321247a04e64b1cab6493c4fd01f": {
          "model_module": "@jupyter-widgets/base",
          "model_name": "LayoutModel",
          "state": {
            "_view_name": "LayoutView",
            "grid_template_rows": null,
            "right": null,
            "justify_content": null,
            "_view_module": "@jupyter-widgets/base",
            "overflow": null,
            "_model_module_version": "1.2.0",
            "_view_count": null,
            "flex_flow": null,
            "width": null,
            "min_width": null,
            "border": null,
            "align_items": null,
            "bottom": null,
            "_model_module": "@jupyter-widgets/base",
            "top": null,
            "grid_column": null,
            "overflow_y": null,
            "overflow_x": null,
            "grid_auto_flow": null,
            "grid_area": null,
            "grid_template_columns": null,
            "flex": null,
            "_model_name": "LayoutModel",
            "justify_items": null,
            "grid_row": null,
            "max_height": null,
            "align_content": null,
            "visibility": null,
            "align_self": null,
            "height": null,
            "min_height": null,
            "padding": null,
            "grid_auto_rows": null,
            "grid_gap": null,
            "max_width": null,
            "order": null,
            "_view_module_version": "1.2.0",
            "grid_template_areas": null,
            "object_position": null,
            "object_fit": null,
            "grid_auto_columns": null,
            "margin": null,
            "display": null,
            "left": null
          }
        },
        "e4fca1c3a74249a791af8fc2d9de1c58": {
          "model_module": "@jupyter-widgets/controls",
          "model_name": "DescriptionStyleModel",
          "state": {
            "_view_name": "StyleView",
            "_model_name": "DescriptionStyleModel",
            "description_width": "",
            "_view_module": "@jupyter-widgets/base",
            "_model_module_version": "1.5.0",
            "_view_count": null,
            "_view_module_version": "1.2.0",
            "_model_module": "@jupyter-widgets/controls"
          }
        },
        "b6c53d97a129460192bbc9b07c588d4e": {
          "model_module": "@jupyter-widgets/base",
          "model_name": "LayoutModel",
          "state": {
            "_view_name": "LayoutView",
            "grid_template_rows": null,
            "right": null,
            "justify_content": null,
            "_view_module": "@jupyter-widgets/base",
            "overflow": null,
            "_model_module_version": "1.2.0",
            "_view_count": null,
            "flex_flow": null,
            "width": null,
            "min_width": null,
            "border": null,
            "align_items": null,
            "bottom": null,
            "_model_module": "@jupyter-widgets/base",
            "top": null,
            "grid_column": null,
            "overflow_y": null,
            "overflow_x": null,
            "grid_auto_flow": null,
            "grid_area": null,
            "grid_template_columns": null,
            "flex": null,
            "_model_name": "LayoutModel",
            "justify_items": null,
            "grid_row": null,
            "max_height": null,
            "align_content": null,
            "visibility": null,
            "align_self": null,
            "height": null,
            "min_height": null,
            "padding": null,
            "grid_auto_rows": null,
            "grid_gap": null,
            "max_width": null,
            "order": null,
            "_view_module_version": "1.2.0",
            "grid_template_areas": null,
            "object_position": null,
            "object_fit": null,
            "grid_auto_columns": null,
            "margin": null,
            "display": null,
            "left": null
          }
        },
        "1e19d949f84c4b52b3ed474c948e8e66": {
          "model_module": "@jupyter-widgets/controls",
          "model_name": "HBoxModel",
          "state": {
            "_view_name": "HBoxView",
            "_dom_classes": [],
            "_model_name": "HBoxModel",
            "_view_module": "@jupyter-widgets/controls",
            "_model_module_version": "1.5.0",
            "_view_count": null,
            "_view_module_version": "1.5.0",
            "box_style": "",
            "layout": "IPY_MODEL_f49f7f5342634c2a9b2f731b3bbc4d9b",
            "_model_module": "@jupyter-widgets/controls",
            "children": [
              "IPY_MODEL_398c9319fd6e4e42885c45da6df10313",
              "IPY_MODEL_35737967405847fbb3b1603d68c35aa1"
            ]
          }
        },
        "f49f7f5342634c2a9b2f731b3bbc4d9b": {
          "model_module": "@jupyter-widgets/base",
          "model_name": "LayoutModel",
          "state": {
            "_view_name": "LayoutView",
            "grid_template_rows": null,
            "right": null,
            "justify_content": null,
            "_view_module": "@jupyter-widgets/base",
            "overflow": null,
            "_model_module_version": "1.2.0",
            "_view_count": null,
            "flex_flow": null,
            "width": null,
            "min_width": null,
            "border": null,
            "align_items": null,
            "bottom": null,
            "_model_module": "@jupyter-widgets/base",
            "top": null,
            "grid_column": null,
            "overflow_y": null,
            "overflow_x": null,
            "grid_auto_flow": null,
            "grid_area": null,
            "grid_template_columns": null,
            "flex": null,
            "_model_name": "LayoutModel",
            "justify_items": null,
            "grid_row": null,
            "max_height": null,
            "align_content": null,
            "visibility": null,
            "align_self": null,
            "height": null,
            "min_height": null,
            "padding": null,
            "grid_auto_rows": null,
            "grid_gap": null,
            "max_width": null,
            "order": null,
            "_view_module_version": "1.2.0",
            "grid_template_areas": null,
            "object_position": null,
            "object_fit": null,
            "grid_auto_columns": null,
            "margin": null,
            "display": null,
            "left": null
          }
        },
        "398c9319fd6e4e42885c45da6df10313": {
          "model_module": "@jupyter-widgets/controls",
          "model_name": "FloatProgressModel",
          "state": {
            "_view_name": "ProgressView",
            "style": "IPY_MODEL_fe2ed2529d5040e8937453ad634ed99e",
            "_dom_classes": [],
            "description": "100%",
            "_model_name": "FloatProgressModel",
            "bar_style": "success",
            "max": 1000,
            "_view_module": "@jupyter-widgets/controls",
            "_model_module_version": "1.5.0",
            "value": 1000,
            "_view_count": null,
            "_view_module_version": "1.5.0",
            "orientation": "horizontal",
            "min": 0,
            "description_tooltip": null,
            "_model_module": "@jupyter-widgets/controls",
            "layout": "IPY_MODEL_1395441940054743a09d395347e42da1"
          }
        },
        "35737967405847fbb3b1603d68c35aa1": {
          "model_module": "@jupyter-widgets/controls",
          "model_name": "HTMLModel",
          "state": {
            "_view_name": "HTMLView",
            "style": "IPY_MODEL_9391a6c3c01842af997a6a3e66199c7f",
            "_dom_classes": [],
            "description": "",
            "_model_name": "HTMLModel",
            "placeholder": "​",
            "_view_module": "@jupyter-widgets/controls",
            "_model_module_version": "1.5.0",
            "value": " 1000/1000 [00:00&lt;00:00, 7789.43it/s]",
            "_view_count": null,
            "_view_module_version": "1.5.0",
            "description_tooltip": null,
            "_model_module": "@jupyter-widgets/controls",
            "layout": "IPY_MODEL_a817c0f76d1c4bb4b4012960ad0ce5e8"
          }
        },
        "fe2ed2529d5040e8937453ad634ed99e": {
          "model_module": "@jupyter-widgets/controls",
          "model_name": "ProgressStyleModel",
          "state": {
            "_view_name": "StyleView",
            "_model_name": "ProgressStyleModel",
            "description_width": "initial",
            "_view_module": "@jupyter-widgets/base",
            "_model_module_version": "1.5.0",
            "_view_count": null,
            "_view_module_version": "1.2.0",
            "bar_color": null,
            "_model_module": "@jupyter-widgets/controls"
          }
        },
        "1395441940054743a09d395347e42da1": {
          "model_module": "@jupyter-widgets/base",
          "model_name": "LayoutModel",
          "state": {
            "_view_name": "LayoutView",
            "grid_template_rows": null,
            "right": null,
            "justify_content": null,
            "_view_module": "@jupyter-widgets/base",
            "overflow": null,
            "_model_module_version": "1.2.0",
            "_view_count": null,
            "flex_flow": null,
            "width": null,
            "min_width": null,
            "border": null,
            "align_items": null,
            "bottom": null,
            "_model_module": "@jupyter-widgets/base",
            "top": null,
            "grid_column": null,
            "overflow_y": null,
            "overflow_x": null,
            "grid_auto_flow": null,
            "grid_area": null,
            "grid_template_columns": null,
            "flex": null,
            "_model_name": "LayoutModel",
            "justify_items": null,
            "grid_row": null,
            "max_height": null,
            "align_content": null,
            "visibility": null,
            "align_self": null,
            "height": null,
            "min_height": null,
            "padding": null,
            "grid_auto_rows": null,
            "grid_gap": null,
            "max_width": null,
            "order": null,
            "_view_module_version": "1.2.0",
            "grid_template_areas": null,
            "object_position": null,
            "object_fit": null,
            "grid_auto_columns": null,
            "margin": null,
            "display": null,
            "left": null
          }
        },
        "9391a6c3c01842af997a6a3e66199c7f": {
          "model_module": "@jupyter-widgets/controls",
          "model_name": "DescriptionStyleModel",
          "state": {
            "_view_name": "StyleView",
            "_model_name": "DescriptionStyleModel",
            "description_width": "",
            "_view_module": "@jupyter-widgets/base",
            "_model_module_version": "1.5.0",
            "_view_count": null,
            "_view_module_version": "1.2.0",
            "_model_module": "@jupyter-widgets/controls"
          }
        },
        "a817c0f76d1c4bb4b4012960ad0ce5e8": {
          "model_module": "@jupyter-widgets/base",
          "model_name": "LayoutModel",
          "state": {
            "_view_name": "LayoutView",
            "grid_template_rows": null,
            "right": null,
            "justify_content": null,
            "_view_module": "@jupyter-widgets/base",
            "overflow": null,
            "_model_module_version": "1.2.0",
            "_view_count": null,
            "flex_flow": null,
            "width": null,
            "min_width": null,
            "border": null,
            "align_items": null,
            "bottom": null,
            "_model_module": "@jupyter-widgets/base",
            "top": null,
            "grid_column": null,
            "overflow_y": null,
            "overflow_x": null,
            "grid_auto_flow": null,
            "grid_area": null,
            "grid_template_columns": null,
            "flex": null,
            "_model_name": "LayoutModel",
            "justify_items": null,
            "grid_row": null,
            "max_height": null,
            "align_content": null,
            "visibility": null,
            "align_self": null,
            "height": null,
            "min_height": null,
            "padding": null,
            "grid_auto_rows": null,
            "grid_gap": null,
            "max_width": null,
            "order": null,
            "_view_module_version": "1.2.0",
            "grid_template_areas": null,
            "object_position": null,
            "object_fit": null,
            "grid_auto_columns": null,
            "margin": null,
            "display": null,
            "left": null
          }
        },
        "4d51cf17b26046eb9af0ce86aa97d061": {
          "model_module": "@jupyter-widgets/controls",
          "model_name": "HBoxModel",
          "state": {
            "_view_name": "HBoxView",
            "_dom_classes": [],
            "_model_name": "HBoxModel",
            "_view_module": "@jupyter-widgets/controls",
            "_model_module_version": "1.5.0",
            "_view_count": null,
            "_view_module_version": "1.5.0",
            "box_style": "",
            "layout": "IPY_MODEL_22894eb429a64e5b8c90d5499bcf484f",
            "_model_module": "@jupyter-widgets/controls",
            "children": [
              "IPY_MODEL_7e0ef46087ba4df99d8e71079311f4ae",
              "IPY_MODEL_2f70d9c2580746609bd652e7162c8c09"
            ]
          }
        },
        "22894eb429a64e5b8c90d5499bcf484f": {
          "model_module": "@jupyter-widgets/base",
          "model_name": "LayoutModel",
          "state": {
            "_view_name": "LayoutView",
            "grid_template_rows": null,
            "right": null,
            "justify_content": null,
            "_view_module": "@jupyter-widgets/base",
            "overflow": null,
            "_model_module_version": "1.2.0",
            "_view_count": null,
            "flex_flow": null,
            "width": null,
            "min_width": null,
            "border": null,
            "align_items": null,
            "bottom": null,
            "_model_module": "@jupyter-widgets/base",
            "top": null,
            "grid_column": null,
            "overflow_y": null,
            "overflow_x": null,
            "grid_auto_flow": null,
            "grid_area": null,
            "grid_template_columns": null,
            "flex": null,
            "_model_name": "LayoutModel",
            "justify_items": null,
            "grid_row": null,
            "max_height": null,
            "align_content": null,
            "visibility": null,
            "align_self": null,
            "height": null,
            "min_height": null,
            "padding": null,
            "grid_auto_rows": null,
            "grid_gap": null,
            "max_width": null,
            "order": null,
            "_view_module_version": "1.2.0",
            "grid_template_areas": null,
            "object_position": null,
            "object_fit": null,
            "grid_auto_columns": null,
            "margin": null,
            "display": null,
            "left": null
          }
        },
        "7e0ef46087ba4df99d8e71079311f4ae": {
          "model_module": "@jupyter-widgets/controls",
          "model_name": "FloatProgressModel",
          "state": {
            "_view_name": "ProgressView",
            "style": "IPY_MODEL_c84f78dbafab43a7994eb3bc34b3b159",
            "_dom_classes": [],
            "description": "  5%",
            "_model_name": "FloatProgressModel",
            "bar_style": "danger",
            "max": 10000,
            "_view_module": "@jupyter-widgets/controls",
            "_model_module_version": "1.5.0",
            "value": 528,
            "_view_count": null,
            "_view_module_version": "1.5.0",
            "orientation": "horizontal",
            "min": 0,
            "description_tooltip": null,
            "_model_module": "@jupyter-widgets/controls",
            "layout": "IPY_MODEL_2265e0854a1349b7b8ef39520661e458"
          }
        },
        "2f70d9c2580746609bd652e7162c8c09": {
          "model_module": "@jupyter-widgets/controls",
          "model_name": "HTMLModel",
          "state": {
            "_view_name": "HTMLView",
            "style": "IPY_MODEL_3bc3542fa3d74c5aae0ec862237e78e6",
            "_dom_classes": [],
            "description": "",
            "_model_name": "HTMLModel",
            "placeholder": "​",
            "_view_module": "@jupyter-widgets/controls",
            "_model_module_version": "1.5.0",
            "value": " 528/10000 [00:00&lt;00:03, 2894.77it/s]",
            "_view_count": null,
            "_view_module_version": "1.5.0",
            "description_tooltip": null,
            "_model_module": "@jupyter-widgets/controls",
            "layout": "IPY_MODEL_4253669748544bc88cc5db5a474ce5f4"
          }
        },
        "c84f78dbafab43a7994eb3bc34b3b159": {
          "model_module": "@jupyter-widgets/controls",
          "model_name": "ProgressStyleModel",
          "state": {
            "_view_name": "StyleView",
            "_model_name": "ProgressStyleModel",
            "description_width": "initial",
            "_view_module": "@jupyter-widgets/base",
            "_model_module_version": "1.5.0",
            "_view_count": null,
            "_view_module_version": "1.2.0",
            "bar_color": null,
            "_model_module": "@jupyter-widgets/controls"
          }
        },
        "2265e0854a1349b7b8ef39520661e458": {
          "model_module": "@jupyter-widgets/base",
          "model_name": "LayoutModel",
          "state": {
            "_view_name": "LayoutView",
            "grid_template_rows": null,
            "right": null,
            "justify_content": null,
            "_view_module": "@jupyter-widgets/base",
            "overflow": null,
            "_model_module_version": "1.2.0",
            "_view_count": null,
            "flex_flow": null,
            "width": null,
            "min_width": null,
            "border": null,
            "align_items": null,
            "bottom": null,
            "_model_module": "@jupyter-widgets/base",
            "top": null,
            "grid_column": null,
            "overflow_y": null,
            "overflow_x": null,
            "grid_auto_flow": null,
            "grid_area": null,
            "grid_template_columns": null,
            "flex": null,
            "_model_name": "LayoutModel",
            "justify_items": null,
            "grid_row": null,
            "max_height": null,
            "align_content": null,
            "visibility": null,
            "align_self": null,
            "height": null,
            "min_height": null,
            "padding": null,
            "grid_auto_rows": null,
            "grid_gap": null,
            "max_width": null,
            "order": null,
            "_view_module_version": "1.2.0",
            "grid_template_areas": null,
            "object_position": null,
            "object_fit": null,
            "grid_auto_columns": null,
            "margin": null,
            "display": null,
            "left": null
          }
        },
        "3bc3542fa3d74c5aae0ec862237e78e6": {
          "model_module": "@jupyter-widgets/controls",
          "model_name": "DescriptionStyleModel",
          "state": {
            "_view_name": "StyleView",
            "_model_name": "DescriptionStyleModel",
            "description_width": "",
            "_view_module": "@jupyter-widgets/base",
            "_model_module_version": "1.5.0",
            "_view_count": null,
            "_view_module_version": "1.2.0",
            "_model_module": "@jupyter-widgets/controls"
          }
        },
        "4253669748544bc88cc5db5a474ce5f4": {
          "model_module": "@jupyter-widgets/base",
          "model_name": "LayoutModel",
          "state": {
            "_view_name": "LayoutView",
            "grid_template_rows": null,
            "right": null,
            "justify_content": null,
            "_view_module": "@jupyter-widgets/base",
            "overflow": null,
            "_model_module_version": "1.2.0",
            "_view_count": null,
            "flex_flow": null,
            "width": null,
            "min_width": null,
            "border": null,
            "align_items": null,
            "bottom": null,
            "_model_module": "@jupyter-widgets/base",
            "top": null,
            "grid_column": null,
            "overflow_y": null,
            "overflow_x": null,
            "grid_auto_flow": null,
            "grid_area": null,
            "grid_template_columns": null,
            "flex": null,
            "_model_name": "LayoutModel",
            "justify_items": null,
            "grid_row": null,
            "max_height": null,
            "align_content": null,
            "visibility": null,
            "align_self": null,
            "height": null,
            "min_height": null,
            "padding": null,
            "grid_auto_rows": null,
            "grid_gap": null,
            "max_width": null,
            "order": null,
            "_view_module_version": "1.2.0",
            "grid_template_areas": null,
            "object_position": null,
            "object_fit": null,
            "grid_auto_columns": null,
            "margin": null,
            "display": null,
            "left": null
          }
        },
        "4b92c446cdca4c629d87fd1a1b8b695a": {
          "model_module": "@jupyter-widgets/controls",
          "model_name": "HBoxModel",
          "state": {
            "_view_name": "HBoxView",
            "_dom_classes": [],
            "_model_name": "HBoxModel",
            "_view_module": "@jupyter-widgets/controls",
            "_model_module_version": "1.5.0",
            "_view_count": null,
            "_view_module_version": "1.5.0",
            "box_style": "",
            "layout": "IPY_MODEL_ae3dcc1ad5c44d7db419b9a6b3332ef5",
            "_model_module": "@jupyter-widgets/controls",
            "children": [
              "IPY_MODEL_179aeb1b1ae649d892dd584d7385fceb",
              "IPY_MODEL_3a75d3cc184f42458b3874ed6ee49c4c"
            ]
          }
        },
        "ae3dcc1ad5c44d7db419b9a6b3332ef5": {
          "model_module": "@jupyter-widgets/base",
          "model_name": "LayoutModel",
          "state": {
            "_view_name": "LayoutView",
            "grid_template_rows": null,
            "right": null,
            "justify_content": null,
            "_view_module": "@jupyter-widgets/base",
            "overflow": null,
            "_model_module_version": "1.2.0",
            "_view_count": null,
            "flex_flow": null,
            "width": null,
            "min_width": null,
            "border": null,
            "align_items": null,
            "bottom": null,
            "_model_module": "@jupyter-widgets/base",
            "top": null,
            "grid_column": null,
            "overflow_y": null,
            "overflow_x": null,
            "grid_auto_flow": null,
            "grid_area": null,
            "grid_template_columns": null,
            "flex": null,
            "_model_name": "LayoutModel",
            "justify_items": null,
            "grid_row": null,
            "max_height": null,
            "align_content": null,
            "visibility": null,
            "align_self": null,
            "height": null,
            "min_height": null,
            "padding": null,
            "grid_auto_rows": null,
            "grid_gap": null,
            "max_width": null,
            "order": null,
            "_view_module_version": "1.2.0",
            "grid_template_areas": null,
            "object_position": null,
            "object_fit": null,
            "grid_auto_columns": null,
            "margin": null,
            "display": null,
            "left": null
          }
        },
        "179aeb1b1ae649d892dd584d7385fceb": {
          "model_module": "@jupyter-widgets/controls",
          "model_name": "FloatProgressModel",
          "state": {
            "_view_name": "ProgressView",
            "style": "IPY_MODEL_f3de2461f9b14f1a8cac87f40b16738f",
            "_dom_classes": [],
            "description": "  5%",
            "_model_name": "FloatProgressModel",
            "bar_style": "danger",
            "max": 10000,
            "_view_module": "@jupyter-widgets/controls",
            "_model_module_version": "1.5.0",
            "value": 496,
            "_view_count": null,
            "_view_module_version": "1.5.0",
            "orientation": "horizontal",
            "min": 0,
            "description_tooltip": null,
            "_model_module": "@jupyter-widgets/controls",
            "layout": "IPY_MODEL_e804f37ba37e40ef9731ab0ace852f22"
          }
        },
        "3a75d3cc184f42458b3874ed6ee49c4c": {
          "model_module": "@jupyter-widgets/controls",
          "model_name": "HTMLModel",
          "state": {
            "_view_name": "HTMLView",
            "style": "IPY_MODEL_547e9d80d3a84354aebaab93a3320a62",
            "_dom_classes": [],
            "description": "",
            "_model_name": "HTMLModel",
            "placeholder": "​",
            "_view_module": "@jupyter-widgets/controls",
            "_model_module_version": "1.5.0",
            "value": " 496/10000 [00:00&lt;00:03, 2984.96it/s]",
            "_view_count": null,
            "_view_module_version": "1.5.0",
            "description_tooltip": null,
            "_model_module": "@jupyter-widgets/controls",
            "layout": "IPY_MODEL_328ea38f5edf4c539cbf99de9495bbe6"
          }
        },
        "f3de2461f9b14f1a8cac87f40b16738f": {
          "model_module": "@jupyter-widgets/controls",
          "model_name": "ProgressStyleModel",
          "state": {
            "_view_name": "StyleView",
            "_model_name": "ProgressStyleModel",
            "description_width": "initial",
            "_view_module": "@jupyter-widgets/base",
            "_model_module_version": "1.5.0",
            "_view_count": null,
            "_view_module_version": "1.2.0",
            "bar_color": null,
            "_model_module": "@jupyter-widgets/controls"
          }
        },
        "e804f37ba37e40ef9731ab0ace852f22": {
          "model_module": "@jupyter-widgets/base",
          "model_name": "LayoutModel",
          "state": {
            "_view_name": "LayoutView",
            "grid_template_rows": null,
            "right": null,
            "justify_content": null,
            "_view_module": "@jupyter-widgets/base",
            "overflow": null,
            "_model_module_version": "1.2.0",
            "_view_count": null,
            "flex_flow": null,
            "width": null,
            "min_width": null,
            "border": null,
            "align_items": null,
            "bottom": null,
            "_model_module": "@jupyter-widgets/base",
            "top": null,
            "grid_column": null,
            "overflow_y": null,
            "overflow_x": null,
            "grid_auto_flow": null,
            "grid_area": null,
            "grid_template_columns": null,
            "flex": null,
            "_model_name": "LayoutModel",
            "justify_items": null,
            "grid_row": null,
            "max_height": null,
            "align_content": null,
            "visibility": null,
            "align_self": null,
            "height": null,
            "min_height": null,
            "padding": null,
            "grid_auto_rows": null,
            "grid_gap": null,
            "max_width": null,
            "order": null,
            "_view_module_version": "1.2.0",
            "grid_template_areas": null,
            "object_position": null,
            "object_fit": null,
            "grid_auto_columns": null,
            "margin": null,
            "display": null,
            "left": null
          }
        },
        "547e9d80d3a84354aebaab93a3320a62": {
          "model_module": "@jupyter-widgets/controls",
          "model_name": "DescriptionStyleModel",
          "state": {
            "_view_name": "StyleView",
            "_model_name": "DescriptionStyleModel",
            "description_width": "",
            "_view_module": "@jupyter-widgets/base",
            "_model_module_version": "1.5.0",
            "_view_count": null,
            "_view_module_version": "1.2.0",
            "_model_module": "@jupyter-widgets/controls"
          }
        },
        "328ea38f5edf4c539cbf99de9495bbe6": {
          "model_module": "@jupyter-widgets/base",
          "model_name": "LayoutModel",
          "state": {
            "_view_name": "LayoutView",
            "grid_template_rows": null,
            "right": null,
            "justify_content": null,
            "_view_module": "@jupyter-widgets/base",
            "overflow": null,
            "_model_module_version": "1.2.0",
            "_view_count": null,
            "flex_flow": null,
            "width": null,
            "min_width": null,
            "border": null,
            "align_items": null,
            "bottom": null,
            "_model_module": "@jupyter-widgets/base",
            "top": null,
            "grid_column": null,
            "overflow_y": null,
            "overflow_x": null,
            "grid_auto_flow": null,
            "grid_area": null,
            "grid_template_columns": null,
            "flex": null,
            "_model_name": "LayoutModel",
            "justify_items": null,
            "grid_row": null,
            "max_height": null,
            "align_content": null,
            "visibility": null,
            "align_self": null,
            "height": null,
            "min_height": null,
            "padding": null,
            "grid_auto_rows": null,
            "grid_gap": null,
            "max_width": null,
            "order": null,
            "_view_module_version": "1.2.0",
            "grid_template_areas": null,
            "object_position": null,
            "object_fit": null,
            "grid_auto_columns": null,
            "margin": null,
            "display": null,
            "left": null
          }
        }
      }
    }
  },
  "cells": [
    {
      "cell_type": "markdown",
      "metadata": {
        "id": "view-in-github",
        "colab_type": "text"
      },
      "source": [
        "<a href=\"https://colab.research.google.com/github/NeyoxDrago/Algorithms-from-Scratch/blob/main/Regression_Algorithms_from_scratch_.ipynb\" target=\"_parent\"><img src=\"https://colab.research.google.com/assets/colab-badge.svg\" alt=\"Open In Colab\"/></a>"
      ]
    },
    {
      "cell_type": "code",
      "metadata": {
        "id": "R4TBaCwQiY8D"
      },
      "source": [
        "## for linear regression \r\n",
        "# https://towardsdatascience.com/understanding-linear-regression-eaaaed2d983e\r\n",
        "# https://shuzhanfan.github.io/2018/07/understanding-mathematics-behind-linear-regression/"
      ],
      "execution_count": null,
      "outputs": []
    },
    {
      "cell_type": "code",
      "metadata": {
        "id": "K7KEyvxjWHRC"
      },
      "source": [
        "from sklearn.datasets import load_diabetes ,load_boston\r\n",
        "from tqdm.notebook import tqdm\r\n",
        "import pandas as pd\r\n",
        "import numpy as np\r\n",
        "import matplotlib.pyplot as plt\r\n",
        "import seaborn as sns\r\n",
        "sns.set_style(style=\"darkgrid\")\r\n",
        "from sklearn.preprocessing import StandardScaler"
      ],
      "execution_count": 76,
      "outputs": []
    },
    {
      "cell_type": "code",
      "metadata": {
        "id": "ce_rVrTmYZ1c"
      },
      "source": [
        "data = load_boston()\r\n",
        "X = data['data']\r\n",
        "target = data['target']\r\n",
        "X = pd.DataFrame(X,columns=data['feature_names'])\r\n",
        "scaler = StandardScaler()\r\n",
        "X = scaler.fit_transform(X)"
      ],
      "execution_count": 77,
      "outputs": []
    },
    {
      "cell_type": "code",
      "metadata": {
        "colab": {
          "base_uri": "https://localhost:8080/"
        },
        "id": "HEUb7Jz9a5Wf",
        "outputId": "29678748-3fe0-4ea5-cdd7-1811695b48e8"
      },
      "source": [
        "target[:5]"
      ],
      "execution_count": 78,
      "outputs": [
        {
          "output_type": "execute_result",
          "data": {
            "text/plain": [
              "array([24. , 21.6, 34.7, 33.4, 36.2])"
            ]
          },
          "metadata": {
            "tags": []
          },
          "execution_count": 78
        }
      ]
    },
    {
      "cell_type": "code",
      "metadata": {
        "id": "vaKbBfvlj6tM"
      },
      "source": [
        "class Regression(object):\r\n",
        "\r\n",
        "  def __init__(self,\r\n",
        "               X = None,\r\n",
        "               Y = None,\r\n",
        "               loss = \"rmse\",\r\n",
        "               l1_penalty = 0.1,    ## l1 penlaty value\r\n",
        "               l2_penalty = 0.1,    ## l2 penalty value\r\n",
        "               iterations = 1000,   ## epochs to run loop \r\n",
        "               learning_rate = 0.1, ## learning\r\n",
        "               weights = \"random\",\r\n",
        "               **kwargs\r\n",
        "               ):\r\n",
        "    \r\n",
        "    self.iterations = iterations\r\n",
        "    self.learning_rate = learning_rate\r\n",
        "    self.l1_penalty = l1_penalty\r\n",
        "    self.l2_penalty = l2_penalty\r\n",
        "    self.loss = loss\r\n",
        "    self.X = X\r\n",
        "    self.Y = Y\r\n",
        "\r\n",
        "    self.losses = {\"rmse\":self.rmse,\r\n",
        "                   \"rmsle\":self.rmsle}\r\n",
        "    \r\n",
        "    self.error_list = []\r\n",
        "\r\n",
        "    if type(X) == pd.core.frame.DataFrame:\r\n",
        "      self.X = self.X.values\r\n",
        "\r\n",
        "    if type(Y) == pd.core.frame.DataFrame:\r\n",
        "      self.Y = self.Y.values\r\n",
        "\r\n",
        "    if weights == \"random\":\r\n",
        "      self.W = np.random.rand(self.X.shape[1])\r\n",
        "    elif weights == \"zeros\":\r\n",
        "      self.W = np.zeros(self.X.shape[1])\r\n",
        "    \r\n",
        "    self.m = self.X.shape[0]\r\n",
        "\r\n",
        "  def hypothesis(self, X_ ):\r\n",
        "    pass\r\n",
        "\r\n",
        "  def rmse(self, y_true, y_pred):\r\n",
        "    return np.sum((y_pred - y_true)**2)\r\n",
        "\r\n",
        "  def rmsle(self, y_true, y_pred):\r\n",
        "    return np.sum((np.log(y_pred) - np.log(y_true))**2)\r\n",
        "\r\n",
        "  def calc_gradient(self, X_, y_true):\r\n",
        "    ## to be overriden\r\n",
        "    pass\r\n",
        "\r\n",
        "  def update(self,grad):\r\n",
        "    self.W = self.W - self.learning_rate*grad\r\n",
        "\r\n",
        "  def fit(self,verbose=None,eval_set=None,use_best_model = True, early_stopping_steps= 200):\r\n",
        "    best_score = np.inf \r\n",
        "    best_iteration = 0\r\n",
        "\r\n",
        "    step = 0\r\n",
        "\r\n",
        "    for i in tqdm(range(self.iterations)):\r\n",
        "      grad = self.calc_gradient(self.X,self.Y)\r\n",
        "      self.update(grad)\r\n",
        "      \r\n",
        "      if eval_set != None:\r\n",
        "        val_score = self.evaluate(*eval_set)\r\n",
        "        if val_score < best_score:\r\n",
        "          best_score = val_score\r\n",
        "          best_weights = self.W\r\n",
        "          best_iteration = i\r\n",
        "          step = i\r\n",
        "\r\n",
        "        if verbose != None and i % verbose == 0:\r\n",
        "            print(f\"Validation Data Score at iteration {i} : {val_score} at iteration : {best_iteration}\")\r\n",
        "        \r\n",
        "        if (i-step) == early_stopping_steps:\r\n",
        "          print(\"########\")\r\n",
        "          print(f\"Score didn't improved in last {early_stopping_steps}.\\nStopping iterations.\")\r\n",
        "          print(f\"Best Score :: {best_score} --->> Achieved at iteration {step}\")\r\n",
        "          print(\"########\")\r\n",
        "          break\r\n",
        "\r\n",
        "    if use_best_model and eval_set != None:\r\n",
        "      self.W = best_weights\r\n",
        "         \r\n",
        "  \r\n",
        "  def show_results(self):\r\n",
        "    plt.plot(self.error_list)\r\n",
        "    plt.xlabel(\"iterations\")\r\n",
        "    plt.ylabel('loss')\r\n",
        "    plt.show()\r\n",
        "\r\n",
        "  def evaluate(self,X,Y):\r\n",
        "    y_pred = self.hypothesis(X)\r\n",
        "    return self.losses[self.loss](Y,y_pred)/X.shape[0]\r\n",
        "  \r\n",
        "  def predict(self,X):\r\n",
        "    return self.hypothesis(X)"
      ],
      "execution_count": 184,
      "outputs": []
    },
    {
      "cell_type": "code",
      "metadata": {
        "id": "G-ZtadsEYtdS"
      },
      "source": [
        "class CustomLinearRegression(Regression):\r\n",
        "\r\n",
        "  def __init__(self,**args):\r\n",
        "    super(CustomLinearRegression,self).__init__(**args)\r\n",
        "    \r\n",
        "  def hypothesis(self, X_ ):\r\n",
        "    return np.dot(X_ ,self.W)\r\n",
        "  \r\n",
        "  def calc_gradient(self, X_, y_true):\r\n",
        "    y_pred = self.hypothesis(X_)\r\n",
        "    e = self.losses[self.loss](y_true,y_pred)/X_.shape[0]\r\n",
        "    self.error_list.append(e)\r\n",
        " \r\n",
        "    grad = np.dot(X_.T, (y_pred - y_true))\r\n",
        "    return grad/X_.shape[0]\r\n",
        "\r\n",
        "class CustomLassoRegression(Regression):\r\n",
        "\r\n",
        "  def __init__(self,**args):\r\n",
        "    super(CustomLassoRegression,self).__init__(**args)\r\n",
        "    \r\n",
        "  def hypothesis(self, X_ ):\r\n",
        "    return np.dot(X_ ,self.W) + self.l1_penalty*(np.sum(np.abs(self.W))/self.W.shape[0])\r\n",
        "\r\n",
        "  def calc_gradient(self, X_, y_true):\r\n",
        "    y_pred = self.hypothesis(X_)\r\n",
        "    e = self.losses[self.loss](y_true,y_pred)/X_.shape[0]\r\n",
        "    self.error_list.append(e)\r\n",
        " \r\n",
        "    grad = np.dot(X_.T, (y_pred - y_true)) + self.l1_penalty*np.abs(self.W)\r\n",
        "    return grad/X_.shape[0]\r\n",
        "\r\n",
        "class CustomRidgeRegression(Regression):\r\n",
        "\r\n",
        "  def __init__(self,**args):\r\n",
        "    super(CustomRidgeRegression,self).__init__(**args)\r\n",
        "    \r\n",
        "  def hypothesis(self, X_ ):\r\n",
        "    return np.dot(X_ ,self.W) + self.l2_penalty*(np.sum(self.W**2))\r\n",
        "  \r\n",
        "  def calc_gradient(self, X_, y_true):\r\n",
        "    y_pred = self.hypothesis(X_)\r\n",
        "    e = self.losses[self.loss](y_true,y_pred)/X_.shape[0]\r\n",
        "    self.error_list.append(e)\r\n",
        " \r\n",
        "    grad = np.dot(X_.T, (y_pred - y_true)) + 2*self.l2_penalty*self.W\r\n",
        "    return grad/(2*X_.shape[0])\r\n",
        "\r\n",
        "\r\n",
        "class CustomElasticNetRegression(Regression):\r\n",
        "\r\n",
        "  def __init__(self,**args):\r\n",
        "    super(CustomElasticNetRegression,self).__init__(**args)\r\n",
        "    \r\n",
        "  def hypothesis(self, X_ ):\r\n",
        "    return np.dot(X_ ,self.W) + self.l2_penalty*(np.sum(self.W**2)) + self.l1_penalty*(np.sum(np.abs(self.W))/self.W.shape[0])\r\n",
        "  \r\n",
        "  def calc_gradient(self, X_, y_true):\r\n",
        "    y_pred = self.hypothesis(X_)\r\n",
        "    e = self.losses[self.loss](y_true,y_pred)/X_.shape[0]\r\n",
        "    self.error_list.append(e)\r\n",
        " \r\n",
        "    grad = np.dot(X_.T, (y_pred - y_true)) + 2*self.l2_penalty*self.W + self.l1_penalty*np.abs(self.W) \r\n",
        "    return grad/(2*X_.shape[0])\r\n"
      ],
      "execution_count": 208,
      "outputs": []
    },
    {
      "cell_type": "code",
      "metadata": {
        "colab": {
          "base_uri": "https://localhost:8080/",
          "height": 566,
          "referenced_widgets": [
            "3b1c54802b304751af42dcd8dd12a51b",
            "8076b1bd43254116a2691e548694b73b",
            "0b4d38108fc041409f142585c688a5b0",
            "42c3f56d285b42fe8e79f64f9419fd17",
            "e48e9df7bf2c404fb7827e6c978bff17",
            "f69e321247a04e64b1cab6493c4fd01f",
            "e4fca1c3a74249a791af8fc2d9de1c58",
            "b6c53d97a129460192bbc9b07c588d4e"
          ]
        },
        "id": "2S4kFhIss6VH",
        "outputId": "a5a55241-ba2d-4032-a7aa-b55c04c1175b"
      },
      "source": [
        "print(\"-- --\"*50)\r\n",
        "print('LINEAR Regression')\r\n",
        "m = CustomLinearRegression(X=x_train,Y=y_train,\r\n",
        "                          learning_rate = 0.05,\r\n",
        "                          iterations=1000,\r\n",
        "                          weights=\"random\",\r\n",
        "                          l1_penalty=0.2)\r\n",
        "\r\n",
        "m.fit(verbose=100,eval_set=(x_test,y_test))\r\n",
        "m.show_results()\r\n",
        "print(f\"\\n\\n###############   Final Score Achieved ::: {m.evaluate(x_test,y_test)}\")"
      ],
      "execution_count": 209,
      "outputs": [
        {
          "output_type": "stream",
          "text": [
            "-- ---- ---- ---- ---- ---- ---- ---- ---- ---- ---- ---- ---- ---- ---- ---- ---- ---- ---- ---- ---- ---- ---- ---- ---- ---- ---- ---- ---- ---- ---- ---- ---- ---- ---- ---- ---- ---- ---- ---- ---- ---- ---- ---- ---- ---- ---- ---- ---- ---- --\n",
            "LINEAR Regression\n"
          ],
          "name": "stdout"
        },
        {
          "output_type": "display_data",
          "data": {
            "application/vnd.jupyter.widget-view+json": {
              "model_id": "3b1c54802b304751af42dcd8dd12a51b",
              "version_minor": 0,
              "version_major": 2
            },
            "text/plain": [
              "HBox(children=(FloatProgress(value=0.0, max=1000.0), HTML(value='')))"
            ]
          },
          "metadata": {
            "tags": []
          }
        },
        {
          "output_type": "stream",
          "text": [
            "Validation Data Score at iteration 0 : 588.4906248915566 at iteration : 0\n",
            "Validation Data Score at iteration 100 : 569.8659537698481 at iteration : 68\n",
            "Validation Data Score at iteration 200 : 571.5634488422993 at iteration : 68\n",
            "########\n",
            "Score didn't improved in last 200.\n",
            "Stopping iterations.\n",
            "Best Score :: 569.461435534342 --->> Achieved at iteration 68\n",
            "########\n",
            "\n"
          ],
          "name": "stdout"
        },
        {
          "output_type": "display_data",
          "data": {
            "image/png": "[encoded data removed]",
            "text/plain": [
              "<Figure size 432x288 with 1 Axes>"
            ]
          },
          "metadata": {
            "tags": []
          }
        },
        {
          "output_type": "stream",
          "text": [
            "\n",
            "\n",
            "###############   Final Score Achieved ::: 569.461435534342\n"
          ],
          "name": "stdout"
        }
      ]
    },
    {
      "cell_type": "code",
      "metadata": {
        "colab": {
          "base_uri": "https://localhost:8080/",
          "height": 600,
          "referenced_widgets": [
            "1e19d949f84c4b52b3ed474c948e8e66",
            "f49f7f5342634c2a9b2f731b3bbc4d9b",
            "398c9319fd6e4e42885c45da6df10313",
            "35737967405847fbb3b1603d68c35aa1",
            "fe2ed2529d5040e8937453ad634ed99e",
            "1395441940054743a09d395347e42da1",
            "9391a6c3c01842af997a6a3e66199c7f",
            "a817c0f76d1c4bb4b4012960ad0ce5e8"
          ]
        },
        "id": "fj1jln9weUPU",
        "outputId": "bc91c8a8-71da-40aa-a6ba-5033be44a626"
      },
      "source": [
        "from sklearn.model_selection import train_test_split\r\n",
        "x_train,x_test,y_train,y_test = train_test_split(X,target,test_size=0.2,random_state=7)\r\n",
        "\r\n",
        "print(\"-- --\"*50)\r\n",
        "print('LASSO Regression')\r\n",
        "m = CustomLassoRegression(X=x_train,Y=y_train,\r\n",
        "                          learning_rate = 0.05,\r\n",
        "                          iterations=1000,\r\n",
        "                          weights=\"random\",\r\n",
        "                          l1_penalty=0.5)\r\n",
        "\r\n",
        "m.fit(verbose=100,eval_set=(x_test,y_test))\r\n",
        "m.show_results()\r\n",
        "print(f\"\\n\\n###############   Final Score Achieved ::: {m.evaluate(x_test,y_test)}\")\r\n",
        "plt.show()"
      ],
      "execution_count": 218,
      "outputs": [
        {
          "output_type": "stream",
          "text": [
            "-- ---- ---- ---- ---- ---- ---- ---- ---- ---- ---- ---- ---- ---- ---- ---- ---- ---- ---- ---- ---- ---- ---- ---- ---- ---- ---- ---- ---- ---- ---- ---- ---- ---- ---- ---- ---- ---- ---- ---- ---- ---- ---- ---- ---- ---- ---- ---- ---- ---- --\n",
            "LASSO Regression\n"
          ],
          "name": "stdout"
        },
        {
          "output_type": "display_data",
          "data": {
            "application/vnd.jupyter.widget-view+json": {
              "model_id": "1e19d949f84c4b52b3ed474c948e8e66",
              "version_minor": 0,
              "version_major": 2
            },
            "text/plain": [
              "HBox(children=(FloatProgress(value=0.0, max=1000.0), HTML(value='')))"
            ]
          },
          "metadata": {
            "tags": []
          }
        },
        {
          "output_type": "stream",
          "text": [
            "Validation Data Score at iteration 0 : 578.5401105469664 at iteration : 0\n",
            "Validation Data Score at iteration 100 : 541.8058161511937 at iteration : 100\n",
            "Validation Data Score at iteration 200 : 539.6286334687805 at iteration : 200\n",
            "Validation Data Score at iteration 300 : 538.4671920137421 at iteration : 300\n",
            "Validation Data Score at iteration 400 : 537.7937529552495 at iteration : 400\n",
            "Validation Data Score at iteration 500 : 537.359467606198 at iteration : 500\n",
            "Validation Data Score at iteration 600 : 537.069149579351 at iteration : 600\n",
            "Validation Data Score at iteration 700 : 536.8719740073935 at iteration : 700\n",
            "Validation Data Score at iteration 800 : 536.7368046019529 at iteration : 800\n",
            "Validation Data Score at iteration 900 : 536.6435528621608 at iteration : 900\n",
            "\n"
          ],
          "name": "stdout"
        },
        {
          "output_type": "display_data",
          "data": {
            "image/png": "[encoded data removed]",
            "text/plain": [
              "<Figure size 432x288 with 1 Axes>"
            ]
          },
          "metadata": {
            "tags": []
          }
        },
        {
          "output_type": "stream",
          "text": [
            "\n",
            "\n",
            "###############   Final Score Achieved ::: 536.579466641851\n"
          ],
          "name": "stdout"
        }
      ]
    },
    {
      "cell_type": "code",
      "metadata": {
        "colab": {
          "base_uri": "https://localhost:8080/",
          "height": 583,
          "referenced_widgets": [
            "4d51cf17b26046eb9af0ce86aa97d061",
            "22894eb429a64e5b8c90d5499bcf484f",
            "7e0ef46087ba4df99d8e71079311f4ae",
            "2f70d9c2580746609bd652e7162c8c09",
            "c84f78dbafab43a7994eb3bc34b3b159",
            "2265e0854a1349b7b8ef39520661e458",
            "3bc3542fa3d74c5aae0ec862237e78e6",
            "4253669748544bc88cc5db5a474ce5f4"
          ]
        },
        "id": "po54vHiz-Hep",
        "outputId": "5a60ec1c-3eaf-4453-a8ce-8104ac89316d"
      },
      "source": [
        "print(\"-- --\"*50)\r\n",
        "print('RIDGE Regression')\r\n",
        "m = CustomRidgeRegression(X=x_train,Y=y_train,\r\n",
        "                          learning_rate = 0.05,\r\n",
        "                          iterations=10000,\r\n",
        "                          weights=\"random\",\r\n",
        "                          l2_penalty=0.5)\r\n",
        "\r\n",
        "m.fit(verbose=500,eval_set=(x_test,y_test))\r\n",
        "m.show_results()\r\n",
        "print(f\"\\n\\n###############   Final Score Achieved ::: {m.evaluate(x_test,y_test)}\")"
      ],
      "execution_count": 219,
      "outputs": [
        {
          "output_type": "stream",
          "text": [
            "-- ---- ---- ---- ---- ---- ---- ---- ---- ---- ---- ---- ---- ---- ---- ---- ---- ---- ---- ---- ---- ---- ---- ---- ---- ---- ---- ---- ---- ---- ---- ---- ---- ---- ---- ---- ---- ---- ---- ---- ---- ---- ---- ---- ---- ---- ---- ---- ---- ---- --\n",
            "RIDGE Regression\n"
          ],
          "name": "stdout"
        },
        {
          "output_type": "display_data",
          "data": {
            "application/vnd.jupyter.widget-view+json": {
              "model_id": "4d51cf17b26046eb9af0ce86aa97d061",
              "version_minor": 0,
              "version_major": 2
            },
            "text/plain": [
              "HBox(children=(FloatProgress(value=0.0, max=10000.0), HTML(value='')))"
            ]
          },
          "metadata": {
            "tags": []
          }
        },
        {
          "output_type": "stream",
          "text": [
            "Validation Data Score at iteration 0 : 513.504410705185 at iteration : 0\n",
            "Validation Data Score at iteration 500 : 44.938880529731144 at iteration : 500\n",
            "Validation Data Score at iteration 1000 : 34.94323958827369 at iteration : 1000\n",
            "Validation Data Score at iteration 1500 : 34.3204486145984 at iteration : 1359\n",
            "########\n",
            "Score didn't improved in last 200.\n",
            "Stopping iterations.\n",
            "Best Score :: 34.270431797996906 --->> Achieved at iteration 1359\n",
            "########\n",
            "\n"
          ],
          "name": "stdout"
        },
        {
          "output_type": "display_data",
          "data": {
            "image/png": "[encoded data removed]",
            "text/plain": [
              "<Figure size 432x288 with 1 Axes>"
            ]
          },
          "metadata": {
            "tags": []
          }
        },
        {
          "output_type": "stream",
          "text": [
            "\n",
            "\n",
            "###############   Final Score Achieved ::: 34.270431797996906\n"
          ],
          "name": "stdout"
        }
      ]
    },
    {
      "cell_type": "code",
      "metadata": {
        "colab": {
          "base_uri": "https://localhost:8080/",
          "height": 566,
          "referenced_widgets": [
            "4b92c446cdca4c629d87fd1a1b8b695a",
            "ae3dcc1ad5c44d7db419b9a6b3332ef5",
            "179aeb1b1ae649d892dd584d7385fceb",
            "3a75d3cc184f42458b3874ed6ee49c4c",
            "f3de2461f9b14f1a8cac87f40b16738f",
            "e804f37ba37e40ef9731ab0ace852f22",
            "547e9d80d3a84354aebaab93a3320a62",
            "328ea38f5edf4c539cbf99de9495bbe6"
          ]
        },
        "id": "TflkTHPe-IDx",
        "outputId": "198fba9b-1af5-43e7-8fa1-4793ca06d578"
      },
      "source": [
        "print(\"-- --\"*50)\r\n",
        "print('ElasticNet Regression')\r\n",
        "m = CustomElasticNetRegression(X=x_train,Y=y_train,\r\n",
        "                               learning_rate = 0.05,\r\n",
        "                               iterations=10000,\r\n",
        "                               weights=\"zeros\",\r\n",
        "                               l1_penalty=0.5,\r\n",
        "                               l2_penalty=0.5)\r\n",
        "\r\n",
        "m.fit(verbose=500,eval_set=(x_test,y_test))\r\n",
        "m.show_results()\r\n",
        "print(f\"\\n\\n###############   Final Score Achieved ::: {m.evaluate(x_test,y_test)}\")"
      ],
      "execution_count": 230,
      "outputs": [
        {
          "output_type": "stream",
          "text": [
            "-- ---- ---- ---- ---- ---- ---- ---- ---- ---- ---- ---- ---- ---- ---- ---- ---- ---- ---- ---- ---- ---- ---- ---- ---- ---- ---- ---- ---- ---- ---- ---- ---- ---- ---- ---- ---- ---- ---- ---- ---- ---- ---- ---- ---- ---- ---- ---- ---- ---- --\n",
            "ElasticNet Regression\n"
          ],
          "name": "stdout"
        },
        {
          "output_type": "display_data",
          "data": {
            "application/vnd.jupyter.widget-view+json": {
              "model_id": "4b92c446cdca4c629d87fd1a1b8b695a",
              "version_minor": 0,
              "version_major": 2
            },
            "text/plain": [
              "HBox(children=(FloatProgress(value=0.0, max=10000.0), HTML(value='')))"
            ]
          },
          "metadata": {
            "tags": []
          }
        },
        {
          "output_type": "stream",
          "text": [
            "Validation Data Score at iteration 0 : 577.6075614434924 at iteration : 0\n",
            "Validation Data Score at iteration 500 : 38.50575163868633 at iteration : 500\n",
            "Validation Data Score at iteration 1000 : 34.453980162644 at iteration : 907\n",
            "########\n",
            "Score didn't improved in last 200.\n",
            "Stopping iterations.\n",
            "Best Score :: 34.368712969343484 --->> Achieved at iteration 907\n",
            "########\n",
            "\n"
          ],
          "name": "stdout"
        },
        {
          "output_type": "display_data",
          "data": {
            "image/png": "[encoded data removed]",
            "text/plain": [
              "<Figure size 432x288 with 1 Axes>"
            ]
          },
          "metadata": {
            "tags": []
          }
        },
        {
          "output_type": "stream",
          "text": [
            "\n",
            "\n",
            "###############   Final Score Achieved ::: 34.368712969343484\n"
          ],
          "name": "stdout"
        }
      ]
    },
    {
      "cell_type": "code",
      "metadata": {
        "id": "FF1zqfNt_pl_"
      },
      "source": [
        ""
      ],
      "execution_count": 207,
      "outputs": []
    }
  ]
}