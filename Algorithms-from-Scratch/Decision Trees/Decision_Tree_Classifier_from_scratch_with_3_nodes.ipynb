{
  "nbformat": 4,
  "nbformat_minor": 0,
  "metadata": {
    "colab": {
      "name": "Decision Tree from scratch  with 3 nodes.ipynb",
      "provenance": [],
      "collapsed_sections": []
    },
    "kernelspec": {
      "name": "python3",
      "display_name": "Python 3"
    },
    "widgets": {
      "application/vnd.jupyter.widget-state+json": {
        "9c69b32ef5274912baa8d5c4718ca433": {
          "model_module": "@jupyter-widgets/controls",
          "model_name": "HBoxModel",
          "state": {
            "_view_name": "HBoxView",
            "_dom_classes": [],
            "_model_name": "HBoxModel",
            "_view_module": "@jupyter-widgets/controls",
            "_model_module_version": "1.5.0",
            "_view_count": null,
            "_view_module_version": "1.5.0",
            "box_style": "",
            "layout": "IPY_MODEL_ebb65ca56eb94ecc9819ca3223578da5",
            "_model_module": "@jupyter-widgets/controls",
            "children": [
              "IPY_MODEL_8c1dbcab10c44607a1576d60d2c80b9e",
              "IPY_MODEL_3fa0068c96284b959028b8a02154f974"
            ]
          }
        },
        "ebb65ca56eb94ecc9819ca3223578da5": {
          "model_module": "@jupyter-widgets/base",
          "model_name": "LayoutModel",
          "state": {
            "_view_name": "LayoutView",
            "grid_template_rows": null,
            "right": null,
            "justify_content": null,
            "_view_module": "@jupyter-widgets/base",
            "overflow": null,
            "_model_module_version": "1.2.0",
            "_view_count": null,
            "flex_flow": null,
            "width": null,
            "min_width": null,
            "border": null,
            "align_items": null,
            "bottom": null,
            "_model_module": "@jupyter-widgets/base",
            "top": null,
            "grid_column": null,
            "overflow_y": null,
            "overflow_x": null,
            "grid_auto_flow": null,
            "grid_area": null,
            "grid_template_columns": null,
            "flex": null,
            "_model_name": "LayoutModel",
            "justify_items": null,
            "grid_row": null,
            "max_height": null,
            "align_content": null,
            "visibility": null,
            "align_self": null,
            "height": null,
            "min_height": null,
            "padding": null,
            "grid_auto_rows": null,
            "grid_gap": null,
            "max_width": null,
            "order": null,
            "_view_module_version": "1.2.0",
            "grid_template_areas": null,
            "object_position": null,
            "object_fit": null,
            "grid_auto_columns": null,
            "margin": null,
            "display": null,
            "left": null
          }
        },
        "8c1dbcab10c44607a1576d60d2c80b9e": {
          "model_module": "@jupyter-widgets/controls",
          "model_name": "FloatProgressModel",
          "state": {
            "_view_name": "ProgressView",
            "style": "IPY_MODEL_ceebffc8a4e94154bf7b77d5e7dc7b2a",
            "_dom_classes": [],
            "description": "100%",
            "_model_name": "FloatProgressModel",
            "bar_style": "success",
            "max": 9,
            "_view_module": "@jupyter-widgets/controls",
            "_model_module_version": "1.5.0",
            "value": 9,
            "_view_count": null,
            "_view_module_version": "1.5.0",
            "orientation": "horizontal",
            "min": 0,
            "description_tooltip": null,
            "_model_module": "@jupyter-widgets/controls",
            "layout": "IPY_MODEL_4403a2593e934d58b21d21ea4636f3b2"
          }
        },
        "3fa0068c96284b959028b8a02154f974": {
          "model_module": "@jupyter-widgets/controls",
          "model_name": "HTMLModel",
          "state": {
            "_view_name": "HTMLView",
            "style": "IPY_MODEL_cd1e14ef271944599853dde73bdee13c",
            "_dom_classes": [],
            "description": "",
            "_model_name": "HTMLModel",
            "placeholder": "​",
            "_view_module": "@jupyter-widgets/controls",
            "_model_module_version": "1.5.0",
            "value": " 9/9 [00:19&lt;00:00,  2.16s/it]",
            "_view_count": null,
            "_view_module_version": "1.5.0",
            "description_tooltip": null,
            "_model_module": "@jupyter-widgets/controls",
            "layout": "IPY_MODEL_860a0de629ca4ad9809b024ae58bfb41"
          }
        },
        "ceebffc8a4e94154bf7b77d5e7dc7b2a": {
          "model_module": "@jupyter-widgets/controls",
          "model_name": "ProgressStyleModel",
          "state": {
            "_view_name": "StyleView",
            "_model_name": "ProgressStyleModel",
            "description_width": "initial",
            "_view_module": "@jupyter-widgets/base",
            "_model_module_version": "1.5.0",
            "_view_count": null,
            "_view_module_version": "1.2.0",
            "bar_color": null,
            "_model_module": "@jupyter-widgets/controls"
          }
        },
        "4403a2593e934d58b21d21ea4636f3b2": {
          "model_module": "@jupyter-widgets/base",
          "model_name": "LayoutModel",
          "state": {
            "_view_name": "LayoutView",
            "grid_template_rows": null,
            "right": null,
            "justify_content": null,
            "_view_module": "@jupyter-widgets/base",
            "overflow": null,
            "_model_module_version": "1.2.0",
            "_view_count": null,
            "flex_flow": null,
            "width": null,
            "min_width": null,
            "border": null,
            "align_items": null,
            "bottom": null,
            "_model_module": "@jupyter-widgets/base",
            "top": null,
            "grid_column": null,
            "overflow_y": null,
            "overflow_x": null,
            "grid_auto_flow": null,
            "grid_area": null,
            "grid_template_columns": null,
            "flex": null,
            "_model_name": "LayoutModel",
            "justify_items": null,
            "grid_row": null,
            "max_height": null,
            "align_content": null,
            "visibility": null,
            "align_self": null,
            "height": null,
            "min_height": null,
            "padding": null,
            "grid_auto_rows": null,
            "grid_gap": null,
            "max_width": null,
            "order": null,
            "_view_module_version": "1.2.0",
            "grid_template_areas": null,
            "object_position": null,
            "object_fit": null,
            "grid_auto_columns": null,
            "margin": null,
            "display": null,
            "left": null
          }
        },
        "cd1e14ef271944599853dde73bdee13c": {
          "model_module": "@jupyter-widgets/controls",
          "model_name": "DescriptionStyleModel",
          "state": {
            "_view_name": "StyleView",
            "_model_name": "DescriptionStyleModel",
            "description_width": "",
            "_view_module": "@jupyter-widgets/base",
            "_model_module_version": "1.5.0",
            "_view_count": null,
            "_view_module_version": "1.2.0",
            "_model_module": "@jupyter-widgets/controls"
          }
        },
        "860a0de629ca4ad9809b024ae58bfb41": {
          "model_module": "@jupyter-widgets/base",
          "model_name": "LayoutModel",
          "state": {
            "_view_name": "LayoutView",
            "grid_template_rows": null,
            "right": null,
            "justify_content": null,
            "_view_module": "@jupyter-widgets/base",
            "overflow": null,
            "_model_module_version": "1.2.0",
            "_view_count": null,
            "flex_flow": null,
            "width": null,
            "min_width": null,
            "border": null,
            "align_items": null,
            "bottom": null,
            "_model_module": "@jupyter-widgets/base",
            "top": null,
            "grid_column": null,
            "overflow_y": null,
            "overflow_x": null,
            "grid_auto_flow": null,
            "grid_area": null,
            "grid_template_columns": null,
            "flex": null,
            "_model_name": "LayoutModel",
            "justify_items": null,
            "grid_row": null,
            "max_height": null,
            "align_content": null,
            "visibility": null,
            "align_self": null,
            "height": null,
            "min_height": null,
            "padding": null,
            "grid_auto_rows": null,
            "grid_gap": null,
            "max_width": null,
            "order": null,
            "_view_module_version": "1.2.0",
            "grid_template_areas": null,
            "object_position": null,
            "object_fit": null,
            "grid_auto_columns": null,
            "margin": null,
            "display": null,
            "left": null
          }
        }
      }
    }
  },
  "cells": [
    {
      "cell_type": "code",
      "metadata": {
        "colab": {
          "base_uri": "https://localhost:8080/"
        },
        "id": "xCCvLbO7WKnP",
        "outputId": "aa580e44-ffe7-4079-9c7e-573ac041eee7"
      },
      "source": [
        "!wget --header=\"Host: archive.ics.uci.edu\" --header=\"User-Agent: Mozilla/5.0 (Windows NT 10.0; Win64; x64) AppleWebKit/537.36 (KHTML, like Gecko) Chrome/87.0.4280.101 Safari/537.36\" --header=\"Accept: text/html,application/xhtml+xml,application/xml;q=0.9,image/avif,image/webp,image/apng,*/*;q=0.8,application/signed-exchange;v=b3;q=0.9\" --header=\"Accept-Language: en-US,en;q=0.9\" --header=\"Referer: https://archive.ics.uci.edu/ml/machine-learning-databases/00422/\" \"https://archive.ics.uci.edu/ml/machine-learning-databases/00422/wifi_localization.txt\" -c -O 'wifi_localization.txt'"
      ],
      "execution_count": 3,
      "outputs": [
        {
          "output_type": "stream",
          "text": [
            "--2021-01-06 10:56:36--  https://archive.ics.uci.edu/ml/machine-learning-databases/00422/wifi_localization.txt\n",
            "Resolving archive.ics.uci.edu (archive.ics.uci.edu)... 128.195.10.252\n",
            "Connecting to archive.ics.uci.edu (archive.ics.uci.edu)|128.195.10.252|:443... connected.\n",
            "HTTP request sent, awaiting response... 416 Requested Range Not Satisfiable\n",
            "\n",
            "    The file is already fully retrieved; nothing to do.\n",
            "\n"
          ],
          "name": "stdout"
        }
      ]
    },
    {
      "cell_type": "code",
      "metadata": {
        "id": "iAmtMIb0zsOl"
      },
      "source": [
        "import pandas as pd\r\n",
        "import numpy as np\r\n",
        "import seaborn as sns\r\n",
        "import matplotlib.pyplot as plt\r\n",
        "from sklearn.datasets import load_iris\r\n",
        "import os"
      ],
      "execution_count": 4,
      "outputs": []
    },
    {
      "cell_type": "code",
      "metadata": {
        "colab": {
          "base_uri": "https://localhost:8080/",
          "height": 402
        },
        "id": "qACLkpMJWUtD",
        "outputId": "1043f858-8642-4e91-a56d-4d42b6306470"
      },
      "source": [
        "data = pd.read_csv(\"wifi_localization.txt\",sep=\"\\t\",header=None)\r\n",
        "data.columns = [f'feature_{i}' for i in data.columns]\r\n",
        "target_column = data.columns.values[-1]\r\n",
        "data"
      ],
      "execution_count": 5,
      "outputs": [
        {
          "output_type": "execute_result",
          "data": {
            "text/html": [
              "<div>\n",
              "<style scoped>\n",
              "    .dataframe tbody tr th:only-of-type {\n",
              "        vertical-align: middle;\n",
              "    }\n",
              "\n",
              "    .dataframe tbody tr th {\n",
              "        vertical-align: top;\n",
              "    }\n",
              "\n",
              "    .dataframe thead th {\n",
              "        text-align: right;\n",
              "    }\n",
              "</style>\n",
              "<table border=\"1\" class=\"dataframe\">\n",
              "  <thead>\n",
              "    <tr style=\"text-align: right;\">\n",
              "      <th></th>\n",
              "      <th>feature_0</th>\n",
              "      <th>feature_1</th>\n",
              "      <th>feature_2</th>\n",
              "      <th>feature_3</th>\n",
              "      <th>feature_4</th>\n",
              "      <th>feature_5</th>\n",
              "      <th>feature_6</th>\n",
              "      <th>feature_7</th>\n",
              "    </tr>\n",
              "  </thead>\n",
              "  <tbody>\n",
              "    <tr>\n",
              "      <th>0</th>\n",
              "      <td>-64</td>\n",
              "      <td>-56</td>\n",
              "      <td>-61</td>\n",
              "      <td>-66</td>\n",
              "      <td>-71</td>\n",
              "      <td>-82</td>\n",
              "      <td>-81</td>\n",
              "      <td>1</td>\n",
              "    </tr>\n",
              "    <tr>\n",
              "      <th>1</th>\n",
              "      <td>-68</td>\n",
              "      <td>-57</td>\n",
              "      <td>-61</td>\n",
              "      <td>-65</td>\n",
              "      <td>-71</td>\n",
              "      <td>-85</td>\n",
              "      <td>-85</td>\n",
              "      <td>1</td>\n",
              "    </tr>\n",
              "    <tr>\n",
              "      <th>2</th>\n",
              "      <td>-63</td>\n",
              "      <td>-60</td>\n",
              "      <td>-60</td>\n",
              "      <td>-67</td>\n",
              "      <td>-76</td>\n",
              "      <td>-85</td>\n",
              "      <td>-84</td>\n",
              "      <td>1</td>\n",
              "    </tr>\n",
              "    <tr>\n",
              "      <th>3</th>\n",
              "      <td>-61</td>\n",
              "      <td>-60</td>\n",
              "      <td>-68</td>\n",
              "      <td>-62</td>\n",
              "      <td>-77</td>\n",
              "      <td>-90</td>\n",
              "      <td>-80</td>\n",
              "      <td>1</td>\n",
              "    </tr>\n",
              "    <tr>\n",
              "      <th>4</th>\n",
              "      <td>-63</td>\n",
              "      <td>-65</td>\n",
              "      <td>-60</td>\n",
              "      <td>-63</td>\n",
              "      <td>-77</td>\n",
              "      <td>-81</td>\n",
              "      <td>-87</td>\n",
              "      <td>1</td>\n",
              "    </tr>\n",
              "    <tr>\n",
              "      <th>...</th>\n",
              "      <td>...</td>\n",
              "      <td>...</td>\n",
              "      <td>...</td>\n",
              "      <td>...</td>\n",
              "      <td>...</td>\n",
              "      <td>...</td>\n",
              "      <td>...</td>\n",
              "      <td>...</td>\n",
              "    </tr>\n",
              "    <tr>\n",
              "      <th>1995</th>\n",
              "      <td>-59</td>\n",
              "      <td>-59</td>\n",
              "      <td>-48</td>\n",
              "      <td>-66</td>\n",
              "      <td>-50</td>\n",
              "      <td>-86</td>\n",
              "      <td>-94</td>\n",
              "      <td>4</td>\n",
              "    </tr>\n",
              "    <tr>\n",
              "      <th>1996</th>\n",
              "      <td>-59</td>\n",
              "      <td>-56</td>\n",
              "      <td>-50</td>\n",
              "      <td>-62</td>\n",
              "      <td>-47</td>\n",
              "      <td>-87</td>\n",
              "      <td>-90</td>\n",
              "      <td>4</td>\n",
              "    </tr>\n",
              "    <tr>\n",
              "      <th>1997</th>\n",
              "      <td>-62</td>\n",
              "      <td>-59</td>\n",
              "      <td>-46</td>\n",
              "      <td>-65</td>\n",
              "      <td>-45</td>\n",
              "      <td>-87</td>\n",
              "      <td>-88</td>\n",
              "      <td>4</td>\n",
              "    </tr>\n",
              "    <tr>\n",
              "      <th>1998</th>\n",
              "      <td>-62</td>\n",
              "      <td>-58</td>\n",
              "      <td>-52</td>\n",
              "      <td>-61</td>\n",
              "      <td>-41</td>\n",
              "      <td>-90</td>\n",
              "      <td>-85</td>\n",
              "      <td>4</td>\n",
              "    </tr>\n",
              "    <tr>\n",
              "      <th>1999</th>\n",
              "      <td>-59</td>\n",
              "      <td>-50</td>\n",
              "      <td>-45</td>\n",
              "      <td>-60</td>\n",
              "      <td>-45</td>\n",
              "      <td>-88</td>\n",
              "      <td>-87</td>\n",
              "      <td>4</td>\n",
              "    </tr>\n",
              "  </tbody>\n",
              "</table>\n",
              "<p>2000 rows × 8 columns</p>\n",
              "</div>"
            ],
            "text/plain": [
              "      feature_0  feature_1  feature_2  ...  feature_5  feature_6  feature_7\n",
              "0           -64        -56        -61  ...        -82        -81          1\n",
              "1           -68        -57        -61  ...        -85        -85          1\n",
              "2           -63        -60        -60  ...        -85        -84          1\n",
              "3           -61        -60        -68  ...        -90        -80          1\n",
              "4           -63        -65        -60  ...        -81        -87          1\n",
              "...         ...        ...        ...  ...        ...        ...        ...\n",
              "1995        -59        -59        -48  ...        -86        -94          4\n",
              "1996        -59        -56        -50  ...        -87        -90          4\n",
              "1997        -62        -59        -46  ...        -87        -88          4\n",
              "1998        -62        -58        -52  ...        -90        -85          4\n",
              "1999        -59        -50        -45  ...        -88        -87          4\n",
              "\n",
              "[2000 rows x 8 columns]"
            ]
          },
          "metadata": {
            "tags": []
          },
          "execution_count": 5
        }
      ]
    },
    {
      "cell_type": "code",
      "metadata": {
        "id": "ui-Yep8faVRU"
      },
      "source": [
        "# sns.countplot(data['target'])"
      ],
      "execution_count": 6,
      "outputs": []
    },
    {
      "cell_type": "code",
      "metadata": {
        "id": "f819lWzxWi2B"
      },
      "source": [
        "import math\r\n",
        "\r\n",
        "def gini_impurity(arr):\r\n",
        "  _,counts = np.unique(arr,return_counts=True)\r\n",
        "  return 1 - np.sum((counts/len(arr))**2)"
      ],
      "execution_count": 7,
      "outputs": []
    },
    {
      "cell_type": "code",
      "metadata": {
        "id": "qVrtoNcUQNNI"
      },
      "source": [
        "from sklearn.model_selection import train_test_split\r\n",
        "x_train,x_test = train_test_split(data,test_size=0.2,random_state=99)"
      ],
      "execution_count": 8,
      "outputs": []
    },
    {
      "cell_type": "code",
      "metadata": {
        "id": "250gsZIjWkll"
      },
      "source": [
        "import scipy\r\n",
        "\r\n",
        "class CustomDecisionTreeClassifier:\r\n",
        "\r\n",
        "  def __init__(self,\r\n",
        "               X,\r\n",
        "               target_column=\"target\",\r\n",
        "               depth=0,\r\n",
        "               max_depth=5):\r\n",
        "\r\n",
        "    self.left = None\r\n",
        "    self.center = None\r\n",
        "    self.right = None\r\n",
        "    self.data= X\r\n",
        "    self.child_nodes = 3\r\n",
        "    self.fkey = None\r\n",
        "    self.max_depth = max_depth\r\n",
        "    self.target_column = target_column\r\n",
        "    self.depth = depth\r\n",
        "    self.endpoints = None\r\n",
        "\r\n",
        "    self.train(self.data)\r\n",
        "\r\n",
        "    \r\n",
        "  def __entropy(self,arr):\r\n",
        "    values,counts = np.unique(arr,return_counts=True)\r\n",
        "    probs = counts/len(arr)\r\n",
        "\r\n",
        "    return -1*np.sum(probs*np.log2(probs))\r\n",
        "\r\n",
        "  def __divide_data(self,df,column,\r\n",
        "                    # fval\r\n",
        "                    endpoints):\r\n",
        "    \r\n",
        "    if endpoints is None:    \r\n",
        "      endpoints = np.linspace(df[column].min(),df[column].max(),self.child_nodes +1)\r\n",
        "\r\n",
        "    x_left  = df[(df[column] <= endpoints[1])]\r\n",
        "    x_center = df[(df[column] > endpoints[1]) & (df[column] <= endpoints[2])]\r\n",
        "    x_right = df[(df[column] > endpoints[2])]\r\n",
        "\r\n",
        "    return x_left,x_center,x_right\r\n",
        "\r\n",
        "\r\n",
        "  def __information_gain(self,data,fkey,endpoints=None):\r\n",
        "    \r\n",
        "    left,center,right = self.__divide_data(data,fkey,endpoints)\r\n",
        "\r\n",
        "    prob_l = float(left.shape[0]/data.shape[0])\r\n",
        "    prob_c = float(center.shape[0]/data.shape[0])\r\n",
        "    prob_r = float(right.shape[0]/data.shape[0])\r\n",
        "\r\n",
        "    i_gain = self.__entropy(data[self.target_column].values) - (\r\n",
        "         \r\n",
        "        prob_l*self.__entropy(left[self.target_column].values) + \r\n",
        "        prob_c*(self.__entropy(center[self.target_column].values)) +\r\n",
        "        prob_r*self.__entropy(right[self.target_column].values)\r\n",
        "        \r\n",
        "        )\r\n",
        "        \r\n",
        "    return i_gain\r\n",
        "  \r\n",
        "  def train(self,data):\r\n",
        "    info_gains = []\r\n",
        "\r\n",
        "    features = data.columns[:-1]\r\n",
        "\r\n",
        "    for ix in features:\r\n",
        "      info_gains.append(self.__information_gain(data,ix))\r\n",
        "    \r\n",
        "    index = np.argmax(info_gains)\r\n",
        "    self.fkey = features[index]\r\n",
        "    \r\n",
        "    # print(self.fkey,info_gains,index)\r\n",
        "    \r\n",
        "    # if sum(info_gains) == 0:\r\n",
        "    #   self.target_val = int(np.ceil(data[self.target_column].mean()))\r\n",
        "    #   return self\r\n",
        "\r\n",
        "    self.endpoints = np.linspace(data[self.fkey].min(),data[self.fkey].max(),self.child_nodes + 1)\r\n",
        "    \r\n",
        "    left,center,right = self.__divide_data(data,self.fkey,self.endpoints)\r\n",
        "    \r\n",
        "    if left.shape[0] == 0 or right.shape[0] == 0 or center.shape[0] == 0:\r\n",
        "      self.target_val = int(np.ceil(data[self.target_column].mean()))\r\n",
        "      return \r\n",
        "    \r\n",
        "    if self.depth >= self.max_depth :\r\n",
        "      self.target_val = int(np.ceil(data[self.target_column].mean()))\r\n",
        "      # print(\"____\")\r\n",
        "      return \r\n",
        "    \r\n",
        "    self.left = CustomDecisionTreeClassifier(left,depth=self.depth+1 ,max_depth = self.max_depth,target_column = self.target_column)\r\n",
        "    self.center = CustomDecisionTreeClassifier(center,depth=self.depth+1 ,max_depth = self.max_depth,target_column = self.target_column)\r\n",
        "    self.right = CustomDecisionTreeClassifier(right,depth=self.depth+1 ,max_depth = self.max_depth,target_column = self.target_column)\r\n",
        "\r\n",
        "    self.target_val = int(np.ceil(data[self.target_column].mean()))\r\n",
        "    return \r\n",
        "\r\n",
        "  def predict(self,test):\r\n",
        "\r\n",
        "    if test[self.fkey] <= self.endpoints[1]:\r\n",
        "      if self.left is None:\r\n",
        "        return self.target_val\r\n",
        "      \r\n",
        "      return self.left.predict(test)\r\n",
        "    \r\n",
        "    elif (test[self.fkey] > self.endpoints[1]) & (test[self.fkey] <= self.endpoints[2]):\r\n",
        "      if self.center is None:\r\n",
        "        return self.target_val\r\n",
        "      \r\n",
        "      return self.center.predict(test)\r\n",
        "    else:\r\n",
        "      if self.right is None:\r\n",
        "        return self.target_val\r\n",
        "      \r\n",
        "      return self.right.predict(test)"
      ],
      "execution_count": 9,
      "outputs": []
    },
    {
      "cell_type": "code",
      "metadata": {
        "colab": {
          "base_uri": "https://localhost:8080/",
          "height": 66,
          "referenced_widgets": [
            "9c69b32ef5274912baa8d5c4718ca433",
            "ebb65ca56eb94ecc9819ca3223578da5",
            "8c1dbcab10c44607a1576d60d2c80b9e",
            "3fa0068c96284b959028b8a02154f974",
            "ceebffc8a4e94154bf7b77d5e7dc7b2a",
            "4403a2593e934d58b21d21ea4636f3b2",
            "cd1e14ef271944599853dde73bdee13c",
            "860a0de629ca4ad9809b024ae58bfb41"
          ]
        },
        "id": "T_7q4Od7WkgG",
        "outputId": "5cc76aca-7095-4293-89f8-a591ca3c6724"
      },
      "source": [
        "# print(x_train.columns)\r\n",
        "from tqdm.notebook import tqdm\r\n",
        "scores = []\r\n",
        "\r\n",
        "for i in tqdm(range(1,10)):\r\n",
        "  tree = CustomDecisionTreeClassifier(x_train,depth=1,max_depth=i,target_column=target_column)\r\n",
        "  \r\n",
        "  preds = []\r\n",
        "  for ix in range(x_test.shape[0]):\r\n",
        "    preds.append(tree.predict(x_test.iloc[ix]))\r\n",
        "\r\n",
        "  from sklearn.metrics import accuracy_score\r\n",
        "  score = accuracy_score(x_test[target_column],preds)\r\n",
        "  scores.append(score)"
      ],
      "execution_count": 16,
      "outputs": [
        {
          "output_type": "display_data",
          "data": {
            "application/vnd.jupyter.widget-view+json": {
              "model_id": "9c69b32ef5274912baa8d5c4718ca433",
              "version_minor": 0,
              "version_major": 2
            },
            "text/plain": [
              "HBox(children=(FloatProgress(value=0.0, max=9.0), HTML(value='')))"
            ]
          },
          "metadata": {
            "tags": []
          }
        },
        {
          "output_type": "stream",
          "text": [
            "\n"
          ],
          "name": "stdout"
        }
      ]
    },
    {
      "cell_type": "code",
      "metadata": {
        "colab": {
          "base_uri": "https://localhost:8080/",
          "height": 367
        },
        "id": "JXkeDdTz1PcX",
        "outputId": "c7b37b2a-35a7-4c25-ece7-fb1a037c4dd0"
      },
      "source": [
        "sns.set_style('darkgrid')\r\n",
        "\r\n",
        "plt.figure(figsize=(12,5))\r\n",
        "plt.scatter(range(1,10),scores,marker=\"o\",color=\"red\")\r\n",
        "plt.title(\"Relationship Between Accuracy score and Max Depth\")\r\n",
        "plt.plot(range(1,10),scores)\r\n",
        "plt.xlabel(\"Max depth\")\r\n",
        "plt.ylabel('Accuracy Score')"
      ],
      "execution_count": 18,
      "outputs": [
        {
          "output_type": "execute_result",
          "data": {
            "text/plain": [
              "Text(0, 0.5, 'Accuracy Score')"
            ]
          },
          "metadata": {
            "tags": []
          },
          "execution_count": 18
        },
        {
          "output_type": "display_data",
          "data": {
            "image/png": "[encoded data removed]",
            "text/plain": [
              "<Figure size 864x360 with 1 Axes>"
            ]
          },
          "metadata": {
            "tags": []
          }
        }
      ]
    },
    {
      "cell_type": "code",
      "metadata": {
        "colab": {
          "base_uri": "https://localhost:8080/"
        },
        "id": "YUeEx5IEV2Wy",
        "outputId": "b4abe364-50e6-4bab-9d21-642d96be5108"
      },
      "source": [
        "max_depth  = 4 \r\n",
        "tree = CustomDecisionTreeClassifier(x_train,depth=1,max_depth=max_depth,target_column=target_column)\r\n",
        "\r\n",
        "def print_level(tree , level):\r\n",
        "  if tree == None : return\r\n",
        "  if level is 1:\r\n",
        "    print(tree.fkey,end=\" \")\r\n",
        "  \r\n",
        "  print_level(tree.left,level-1)\r\n",
        "  print_level(tree.center,level-1)\r\n",
        "  print_level(tree.right,level-1)\r\n",
        "\r\n",
        "for i in range(1,max_depth + 1):\r\n",
        "  print(f'level {i}:: ',end=\" \")\r\n",
        "  print_level(tree,i)\r\n",
        "  print()"
      ],
      "execution_count": 21,
      "outputs": [
        {
          "output_type": "stream",
          "text": [
            "level 1::  feature_0 \n",
            "level 2::  feature_4 feature_0 feature_0 \n",
            "level 3::  feature_3 feature_4 feature_0 feature_4 feature_0 feature_0 feature_0 feature_0 feature_0 \n",
            "level 4::  feature_0 feature_3 feature_0 feature_3 feature_0 feature_0 feature_0 feature_0 feature_0 feature_2 feature_2 feature_4 feature_3 feature_6 feature_0 feature_0 feature_0 feature_0 feature_0 feature_0 feature_0 feature_0 feature_0 feature_0 \n"
          ],
          "name": "stdout"
        }
      ]
    }
  ]
}