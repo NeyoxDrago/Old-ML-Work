{
  "nbformat": 4,
  "nbformat_minor": 0,
  "metadata": {
    "colab": {
      "name": "Decision_Tree_from_scratch_2_nodes.ipynb",
      "provenance": [],
      "collapsed_sections": []
    },
    "kernelspec": {
      "name": "python3",
      "display_name": "Python 3"
    },
    "widgets": {
      "application/vnd.jupyter.widget-state+json": {
        "34f4cf4fe0b4466f8821c2e45193e6da": {
          "model_module": "@jupyter-widgets/controls",
          "model_name": "HBoxModel",
          "state": {
            "_view_name": "HBoxView",
            "_dom_classes": [],
            "_model_name": "HBoxModel",
            "_view_module": "@jupyter-widgets/controls",
            "_model_module_version": "1.5.0",
            "_view_count": null,
            "_view_module_version": "1.5.0",
            "box_style": "",
            "layout": "IPY_MODEL_4d8f923186ac4418b56a637573c29d0a",
            "_model_module": "@jupyter-widgets/controls",
            "children": [
              "IPY_MODEL_264381bf4fd04a55b25fb7e7d372a44d",
              "IPY_MODEL_734b0910783f4ef0afeb60d6c8fffd4a"
            ]
          }
        },
        "4d8f923186ac4418b56a637573c29d0a": {
          "model_module": "@jupyter-widgets/base",
          "model_name": "LayoutModel",
          "state": {
            "_view_name": "LayoutView",
            "grid_template_rows": null,
            "right": null,
            "justify_content": null,
            "_view_module": "@jupyter-widgets/base",
            "overflow": null,
            "_model_module_version": "1.2.0",
            "_view_count": null,
            "flex_flow": null,
            "width": null,
            "min_width": null,
            "border": null,
            "align_items": null,
            "bottom": null,
            "_model_module": "@jupyter-widgets/base",
            "top": null,
            "grid_column": null,
            "overflow_y": null,
            "overflow_x": null,
            "grid_auto_flow": null,
            "grid_area": null,
            "grid_template_columns": null,
            "flex": null,
            "_model_name": "LayoutModel",
            "justify_items": null,
            "grid_row": null,
            "max_height": null,
            "align_content": null,
            "visibility": null,
            "align_self": null,
            "height": null,
            "min_height": null,
            "padding": null,
            "grid_auto_rows": null,
            "grid_gap": null,
            "max_width": null,
            "order": null,
            "_view_module_version": "1.2.0",
            "grid_template_areas": null,
            "object_position": null,
            "object_fit": null,
            "grid_auto_columns": null,
            "margin": null,
            "display": null,
            "left": null
          }
        },
        "264381bf4fd04a55b25fb7e7d372a44d": {
          "model_module": "@jupyter-widgets/controls",
          "model_name": "FloatProgressModel",
          "state": {
            "_view_name": "ProgressView",
            "style": "IPY_MODEL_13ae9526fab94c19bdc7e36fcb01b6e7",
            "_dom_classes": [],
            "description": "100%",
            "_model_name": "FloatProgressModel",
            "bar_style": "success",
            "max": 8,
            "_view_module": "@jupyter-widgets/controls",
            "_model_module_version": "1.5.0",
            "value": 8,
            "_view_count": null,
            "_view_module_version": "1.5.0",
            "orientation": "horizontal",
            "min": 0,
            "description_tooltip": null,
            "_model_module": "@jupyter-widgets/controls",
            "layout": "IPY_MODEL_b9e6faf726754e4089b31e9c63cea4a5"
          }
        },
        "734b0910783f4ef0afeb60d6c8fffd4a": {
          "model_module": "@jupyter-widgets/controls",
          "model_name": "HTMLModel",
          "state": {
            "_view_name": "HTMLView",
            "style": "IPY_MODEL_78b584936c9d46ebbd4919d17147eeb0",
            "_dom_classes": [],
            "description": "",
            "_model_name": "HTMLModel",
            "placeholder": "​",
            "_view_module": "@jupyter-widgets/controls",
            "_model_module_version": "1.5.0",
            "value": " 8/8 [01:34&lt;00:00, 11.87s/it]",
            "_view_count": null,
            "_view_module_version": "1.5.0",
            "description_tooltip": null,
            "_model_module": "@jupyter-widgets/controls",
            "layout": "IPY_MODEL_508ddadeb6f3429287f3fed5ad306c9f"
          }
        },
        "13ae9526fab94c19bdc7e36fcb01b6e7": {
          "model_module": "@jupyter-widgets/controls",
          "model_name": "ProgressStyleModel",
          "state": {
            "_view_name": "StyleView",
            "_model_name": "ProgressStyleModel",
            "description_width": "initial",
            "_view_module": "@jupyter-widgets/base",
            "_model_module_version": "1.5.0",
            "_view_count": null,
            "_view_module_version": "1.2.0",
            "bar_color": null,
            "_model_module": "@jupyter-widgets/controls"
          }
        },
        "b9e6faf726754e4089b31e9c63cea4a5": {
          "model_module": "@jupyter-widgets/base",
          "model_name": "LayoutModel",
          "state": {
            "_view_name": "LayoutView",
            "grid_template_rows": null,
            "right": null,
            "justify_content": null,
            "_view_module": "@jupyter-widgets/base",
            "overflow": null,
            "_model_module_version": "1.2.0",
            "_view_count": null,
            "flex_flow": null,
            "width": null,
            "min_width": null,
            "border": null,
            "align_items": null,
            "bottom": null,
            "_model_module": "@jupyter-widgets/base",
            "top": null,
            "grid_column": null,
            "overflow_y": null,
            "overflow_x": null,
            "grid_auto_flow": null,
            "grid_area": null,
            "grid_template_columns": null,
            "flex": null,
            "_model_name": "LayoutModel",
            "justify_items": null,
            "grid_row": null,
            "max_height": null,
            "align_content": null,
            "visibility": null,
            "align_self": null,
            "height": null,
            "min_height": null,
            "padding": null,
            "grid_auto_rows": null,
            "grid_gap": null,
            "max_width": null,
            "order": null,
            "_view_module_version": "1.2.0",
            "grid_template_areas": null,
            "object_position": null,
            "object_fit": null,
            "grid_auto_columns": null,
            "margin": null,
            "display": null,
            "left": null
          }
        },
        "78b584936c9d46ebbd4919d17147eeb0": {
          "model_module": "@jupyter-widgets/controls",
          "model_name": "DescriptionStyleModel",
          "state": {
            "_view_name": "StyleView",
            "_model_name": "DescriptionStyleModel",
            "description_width": "",
            "_view_module": "@jupyter-widgets/base",
            "_model_module_version": "1.5.0",
            "_view_count": null,
            "_view_module_version": "1.2.0",
            "_model_module": "@jupyter-widgets/controls"
          }
        },
        "508ddadeb6f3429287f3fed5ad306c9f": {
          "model_module": "@jupyter-widgets/base",
          "model_name": "LayoutModel",
          "state": {
            "_view_name": "LayoutView",
            "grid_template_rows": null,
            "right": null,
            "justify_content": null,
            "_view_module": "@jupyter-widgets/base",
            "overflow": null,
            "_model_module_version": "1.2.0",
            "_view_count": null,
            "flex_flow": null,
            "width": null,
            "min_width": null,
            "border": null,
            "align_items": null,
            "bottom": null,
            "_model_module": "@jupyter-widgets/base",
            "top": null,
            "grid_column": null,
            "overflow_y": null,
            "overflow_x": null,
            "grid_auto_flow": null,
            "grid_area": null,
            "grid_template_columns": null,
            "flex": null,
            "_model_name": "LayoutModel",
            "justify_items": null,
            "grid_row": null,
            "max_height": null,
            "align_content": null,
            "visibility": null,
            "align_self": null,
            "height": null,
            "min_height": null,
            "padding": null,
            "grid_auto_rows": null,
            "grid_gap": null,
            "max_width": null,
            "order": null,
            "_view_module_version": "1.2.0",
            "grid_template_areas": null,
            "object_position": null,
            "object_fit": null,
            "grid_auto_columns": null,
            "margin": null,
            "display": null,
            "left": null
          }
        }
      }
    }
  },
  "cells": [
    {
      "cell_type": "code",
      "metadata": {
        "colab": {
          "base_uri": "https://localhost:8080/"
        },
        "id": "xCCvLbO7WKnP",
        "outputId": "63ec9cf9-b423-4ad1-9a08-c0a5f723e479"
      },
      "source": [
        "!wget --header=\"Host: archive.ics.uci.edu\" --header=\"User-Agent: Mozilla/5.0 (Windows NT 10.0; Win64; x64) AppleWebKit/537.36 (KHTML, like Gecko) Chrome/87.0.4280.101 Safari/537.36\" --header=\"Accept: text/html,application/xhtml+xml,application/xml;q=0.9,image/avif,image/webp,image/apng,*/*;q=0.8,application/signed-exchange;v=b3;q=0.9\" --header=\"Accept-Language: en-US,en;q=0.9\" --header=\"Referer: https://archive.ics.uci.edu/ml/machine-learning-databases/00422/\" \"https://archive.ics.uci.edu/ml/machine-learning-databases/00422/wifi_localization.txt\" -c -O 'wifi_localization.txt'"
      ],
      "execution_count": 1,
      "outputs": [
        {
          "output_type": "stream",
          "text": [
            "--2021-01-06 08:45:04--  https://archive.ics.uci.edu/ml/machine-learning-databases/00422/wifi_localization.txt\n",
            "Resolving archive.ics.uci.edu (archive.ics.uci.edu)... 128.195.10.252\n",
            "Connecting to archive.ics.uci.edu (archive.ics.uci.edu)|128.195.10.252|:443... connected.\n",
            "HTTP request sent, awaiting response... 200 OK\n",
            "Length: 62000 (61K) [application/x-httpd-php]\n",
            "Saving to: ‘wifi_localization.txt’\n",
            "\n",
            "wifi_localization.t 100%[===================>]  60.55K  --.-KB/s    in 0.1s    \n",
            "\n",
            "2021-01-06 08:45:05 (467 KB/s) - ‘wifi_localization.txt’ saved [62000/62000]\n",
            "\n"
          ],
          "name": "stdout"
        }
      ]
    },
    {
      "cell_type": "code",
      "metadata": {
        "id": "iAmtMIb0zsOl"
      },
      "source": [
        "import pandas as pd\r\n",
        "import numpy as np\r\n",
        "import seaborn as sns\r\n",
        "import matplotlib.pyplot as plt\r\n",
        "from sklearn.datasets import load_iris\r\n",
        "import os"
      ],
      "execution_count": 2,
      "outputs": []
    },
    {
      "cell_type": "code",
      "metadata": {
        "colab": {
          "base_uri": "https://localhost:8080/",
          "height": 402
        },
        "id": "qACLkpMJWUtD",
        "outputId": "9f3ca008-2052-42a8-bc36-e4da6747ed84"
      },
      "source": [
        "data = pd.read_csv(\"wifi_localization.txt\",sep=\"\\t\",header=None)\r\n",
        "data.columns = [f'feature_{i}' for i in data.columns]\r\n",
        "target_column = data.columns.values[-1]\r\n",
        "data\r\n"
      ],
      "execution_count": 3,
      "outputs": [
        {
          "output_type": "execute_result",
          "data": {
            "text/html": [
              "<div>\n",
              "<style scoped>\n",
              "    .dataframe tbody tr th:only-of-type {\n",
              "        vertical-align: middle;\n",
              "    }\n",
              "\n",
              "    .dataframe tbody tr th {\n",
              "        vertical-align: top;\n",
              "    }\n",
              "\n",
              "    .dataframe thead th {\n",
              "        text-align: right;\n",
              "    }\n",
              "</style>\n",
              "<table border=\"1\" class=\"dataframe\">\n",
              "  <thead>\n",
              "    <tr style=\"text-align: right;\">\n",
              "      <th></th>\n",
              "      <th>feature_0</th>\n",
              "      <th>feature_1</th>\n",
              "      <th>feature_2</th>\n",
              "      <th>feature_3</th>\n",
              "      <th>feature_4</th>\n",
              "      <th>feature_5</th>\n",
              "      <th>feature_6</th>\n",
              "      <th>feature_7</th>\n",
              "    </tr>\n",
              "  </thead>\n",
              "  <tbody>\n",
              "    <tr>\n",
              "      <th>0</th>\n",
              "      <td>-64</td>\n",
              "      <td>-56</td>\n",
              "      <td>-61</td>\n",
              "      <td>-66</td>\n",
              "      <td>-71</td>\n",
              "      <td>-82</td>\n",
              "      <td>-81</td>\n",
              "      <td>1</td>\n",
              "    </tr>\n",
              "    <tr>\n",
              "      <th>1</th>\n",
              "      <td>-68</td>\n",
              "      <td>-57</td>\n",
              "      <td>-61</td>\n",
              "      <td>-65</td>\n",
              "      <td>-71</td>\n",
              "      <td>-85</td>\n",
              "      <td>-85</td>\n",
              "      <td>1</td>\n",
              "    </tr>\n",
              "    <tr>\n",
              "      <th>2</th>\n",
              "      <td>-63</td>\n",
              "      <td>-60</td>\n",
              "      <td>-60</td>\n",
              "      <td>-67</td>\n",
              "      <td>-76</td>\n",
              "      <td>-85</td>\n",
              "      <td>-84</td>\n",
              "      <td>1</td>\n",
              "    </tr>\n",
              "    <tr>\n",
              "      <th>3</th>\n",
              "      <td>-61</td>\n",
              "      <td>-60</td>\n",
              "      <td>-68</td>\n",
              "      <td>-62</td>\n",
              "      <td>-77</td>\n",
              "      <td>-90</td>\n",
              "      <td>-80</td>\n",
              "      <td>1</td>\n",
              "    </tr>\n",
              "    <tr>\n",
              "      <th>4</th>\n",
              "      <td>-63</td>\n",
              "      <td>-65</td>\n",
              "      <td>-60</td>\n",
              "      <td>-63</td>\n",
              "      <td>-77</td>\n",
              "      <td>-81</td>\n",
              "      <td>-87</td>\n",
              "      <td>1</td>\n",
              "    </tr>\n",
              "    <tr>\n",
              "      <th>...</th>\n",
              "      <td>...</td>\n",
              "      <td>...</td>\n",
              "      <td>...</td>\n",
              "      <td>...</td>\n",
              "      <td>...</td>\n",
              "      <td>...</td>\n",
              "      <td>...</td>\n",
              "      <td>...</td>\n",
              "    </tr>\n",
              "    <tr>\n",
              "      <th>1995</th>\n",
              "      <td>-59</td>\n",
              "      <td>-59</td>\n",
              "      <td>-48</td>\n",
              "      <td>-66</td>\n",
              "      <td>-50</td>\n",
              "      <td>-86</td>\n",
              "      <td>-94</td>\n",
              "      <td>4</td>\n",
              "    </tr>\n",
              "    <tr>\n",
              "      <th>1996</th>\n",
              "      <td>-59</td>\n",
              "      <td>-56</td>\n",
              "      <td>-50</td>\n",
              "      <td>-62</td>\n",
              "      <td>-47</td>\n",
              "      <td>-87</td>\n",
              "      <td>-90</td>\n",
              "      <td>4</td>\n",
              "    </tr>\n",
              "    <tr>\n",
              "      <th>1997</th>\n",
              "      <td>-62</td>\n",
              "      <td>-59</td>\n",
              "      <td>-46</td>\n",
              "      <td>-65</td>\n",
              "      <td>-45</td>\n",
              "      <td>-87</td>\n",
              "      <td>-88</td>\n",
              "      <td>4</td>\n",
              "    </tr>\n",
              "    <tr>\n",
              "      <th>1998</th>\n",
              "      <td>-62</td>\n",
              "      <td>-58</td>\n",
              "      <td>-52</td>\n",
              "      <td>-61</td>\n",
              "      <td>-41</td>\n",
              "      <td>-90</td>\n",
              "      <td>-85</td>\n",
              "      <td>4</td>\n",
              "    </tr>\n",
              "    <tr>\n",
              "      <th>1999</th>\n",
              "      <td>-59</td>\n",
              "      <td>-50</td>\n",
              "      <td>-45</td>\n",
              "      <td>-60</td>\n",
              "      <td>-45</td>\n",
              "      <td>-88</td>\n",
              "      <td>-87</td>\n",
              "      <td>4</td>\n",
              "    </tr>\n",
              "  </tbody>\n",
              "</table>\n",
              "<p>2000 rows × 8 columns</p>\n",
              "</div>"
            ],
            "text/plain": [
              "      feature_0  feature_1  feature_2  ...  feature_5  feature_6  feature_7\n",
              "0           -64        -56        -61  ...        -82        -81          1\n",
              "1           -68        -57        -61  ...        -85        -85          1\n",
              "2           -63        -60        -60  ...        -85        -84          1\n",
              "3           -61        -60        -68  ...        -90        -80          1\n",
              "4           -63        -65        -60  ...        -81        -87          1\n",
              "...         ...        ...        ...  ...        ...        ...        ...\n",
              "1995        -59        -59        -48  ...        -86        -94          4\n",
              "1996        -59        -56        -50  ...        -87        -90          4\n",
              "1997        -62        -59        -46  ...        -87        -88          4\n",
              "1998        -62        -58        -52  ...        -90        -85          4\n",
              "1999        -59        -50        -45  ...        -88        -87          4\n",
              "\n",
              "[2000 rows x 8 columns]"
            ]
          },
          "metadata": {
            "tags": []
          },
          "execution_count": 3
        }
      ]
    },
    {
      "cell_type": "code",
      "metadata": {
        "colab": {
          "base_uri": "https://localhost:8080/",
          "height": 350
        },
        "id": "ui-Yep8faVRU",
        "outputId": "d2068a0e-ee08-4825-e8a4-c92c11099d15"
      },
      "source": [
        "sns.countplot(data[target_column])"
      ],
      "execution_count": 4,
      "outputs": [
        {
          "output_type": "stream",
          "text": [
            "/usr/local/lib/python3.6/dist-packages/seaborn/_decorators.py:43: FutureWarning: Pass the following variable as a keyword arg: x. From version 0.12, the only valid positional argument will be `data`, and passing other arguments without an explicit keyword will result in an error or misinterpretation.\n",
            "  FutureWarning\n"
          ],
          "name": "stderr"
        },
        {
          "output_type": "execute_result",
          "data": {
            "text/plain": [
              "<matplotlib.axes._subplots.AxesSubplot at 0x7f3264c5d668>"
            ]
          },
          "metadata": {
            "tags": []
          },
          "execution_count": 4
        },
        {
          "output_type": "display_data",
          "data": {
            "image/png": "[encoded data removed]",
            "text/plain": [
              "<Figure size 432x288 with 1 Axes>"
            ]
          },
          "metadata": {
            "tags": [],
            "needs_background": "light"
          }
        }
      ]
    },
    {
      "cell_type": "code",
      "metadata": {
        "id": "f819lWzxWi2B"
      },
      "source": [
        "import math\r\n",
        "\r\n",
        "def gini_impurity(arr):\r\n",
        "  _,counts = np.unique(arr,return_counts=True)\r\n",
        "  return 1 - np.sum((counts/len(arr))**2)"
      ],
      "execution_count": 5,
      "outputs": []
    },
    {
      "cell_type": "code",
      "metadata": {
        "id": "qVrtoNcUQNNI"
      },
      "source": [
        "from sklearn.model_selection import train_test_split\r\n",
        "x_train,x_test = train_test_split(data,test_size=0.2,random_state=7)"
      ],
      "execution_count": 6,
      "outputs": []
    },
    {
      "cell_type": "code",
      "metadata": {
        "id": "250gsZIjWkll"
      },
      "source": [
        "import scipy\r\n",
        "\r\n",
        "class CustomDecisionTreeClassifier:\r\n",
        "\r\n",
        "  def __init__(self,\r\n",
        "               X,\r\n",
        "               target_column=\"target\",\r\n",
        "               depth=0,\r\n",
        "               max_depth=5):\r\n",
        "\r\n",
        "    self.left = None\r\n",
        "    self.center = None\r\n",
        "    self.right = None\r\n",
        "    self.fval = None\r\n",
        "    self.child_nodes = 3\r\n",
        "    self.fkey = None\r\n",
        "    self.max_depth = max_depth\r\n",
        "    self.target_column = target_column\r\n",
        "    self.depth = depth\r\n",
        "    self.data = X\r\n",
        "    self.endpoints = None\r\n",
        "\r\n",
        "\r\n",
        "    self.train(self.data)\r\n",
        "\r\n",
        "  def __entropy(self,arr):\r\n",
        "    values,counts = np.unique(arr,return_counts=True)\r\n",
        "    probs = counts/len(arr)\r\n",
        "\r\n",
        "    return -1*np.sum(probs*np.log2(probs))\r\n",
        "\r\n",
        "  def __divide_data(self,df,column,fval):\r\n",
        "    \r\n",
        "    x_left  = df[df[column] <= fval]\r\n",
        "    x_right = df[df[column] >  fval]\r\n",
        "\r\n",
        "    return x_left,x_right\r\n",
        "    \r\n",
        "  def __information_gain(self,data,fkey,fval):\r\n",
        "    \r\n",
        "    left,right = self.__divide_data(data,fkey,fval)\r\n",
        "\r\n",
        "    prob_l = float(left.shape[0]/data.shape[0])\r\n",
        "    prob_r = float(right.shape[0]/data.shape[0])\r\n",
        "\r\n",
        "    i_gain = self.__entropy(data[self.target_column].values) - ( \r\n",
        "        prob_l*self.__entropy(left[self.target_column].values) + \r\n",
        "        prob_r*self.__entropy(right[self.target_column].values)\r\n",
        "        )\r\n",
        "    \r\n",
        "    return i_gain\r\n",
        "  \r\n",
        "  def train(self,data):\r\n",
        "    features = data.columns[:-1]\r\n",
        "    info_gains = []\r\n",
        "\r\n",
        "    for ix in features:\r\n",
        "      info_gains.append(self.__information_gain(data,ix,data[ix].mean()))\r\n",
        "    \r\n",
        "    self.fkey = features[np.argmax(info_gains)]\r\n",
        "    self.fval = data[self.fkey].mean()\r\n",
        "    # print(self.fkey,self.fval,info_gains)\r\n",
        "\r\n",
        "\r\n",
        "    left,right = self.__divide_data(data,self.fkey,self.fval)\r\n",
        "    # print(f\"Key at {self.fkey} with {self.fval}\")    \r\n",
        "\r\n",
        "    if left.shape[0] == 0 or right.shape[0] == 0:\r\n",
        "      self.target_val = int(np.ceil(data[self.target_column].mean()))\r\n",
        "      return\r\n",
        "    \r\n",
        "    if self.depth >= self.max_depth :\r\n",
        "      self.target_val = int(np.ceil(data[self.target_column].mean()))\r\n",
        "      return\r\n",
        "    \r\n",
        "    self.left = CustomDecisionTreeClassifier(left,depth=self.depth+1 ,max_depth = self.max_depth,target_column=self.target_column)\r\n",
        "    self.right = CustomDecisionTreeClassifier(right,depth=self.depth+1 ,max_depth = self.max_depth,target_column=self.target_column)\r\n",
        "    \r\n",
        "    self.target_val = int(np.ceil(data[self.target_column].mean()))\r\n",
        "    return\r\n",
        "  \r\n",
        "  def predict(self,test):\r\n",
        "\r\n",
        "    if test[self.fkey] <= self.fval:\r\n",
        "      if self.left is None:\r\n",
        "        return self.target_val\r\n",
        "      \r\n",
        "      return self.left.predict(test)\r\n",
        "    \r\n",
        "    else:\r\n",
        "      if self.right is None:\r\n",
        "        return self.target_val\r\n",
        "      \r\n",
        "      return self.right.predict(test)"
      ],
      "execution_count": 20,
      "outputs": []
    },
    {
      "cell_type": "code",
      "metadata": {
        "id": "T_7q4Od7WkgG",
        "colab": {
          "base_uri": "https://localhost:8080/",
          "height": 66,
          "referenced_widgets": [
            "34f4cf4fe0b4466f8821c2e45193e6da",
            "4d8f923186ac4418b56a637573c29d0a",
            "264381bf4fd04a55b25fb7e7d372a44d",
            "734b0910783f4ef0afeb60d6c8fffd4a",
            "13ae9526fab94c19bdc7e36fcb01b6e7",
            "b9e6faf726754e4089b31e9c63cea4a5",
            "78b584936c9d46ebbd4919d17147eeb0",
            "508ddadeb6f3429287f3fed5ad306c9f"
          ]
        },
        "outputId": "e2a9de59-f78d-4fc3-8e0c-961bb73f91d8"
      },
      "source": [
        "from tqdm.notebook import tqdm\r\n",
        "scores = []\r\n",
        "for i in tqdm(range(3,11)):\r\n",
        "  tree = CustomDecisionTreeClassifier(x_train,depth=1,max_depth=i,target_column=target_column)\r\n",
        "\r\n",
        "  preds = []\r\n",
        "  for ix in range(x_test.shape[0]):\r\n",
        "    preds.append(tree.predict(x_test.iloc[ix]))\r\n",
        "\r\n",
        "  from sklearn.metrics import accuracy_score\r\n",
        "  score = accuracy_score(x_test[target_column],preds)\r\n",
        "  scores.append(score)"
      ],
      "execution_count": 21,
      "outputs": [
        {
          "output_type": "display_data",
          "data": {
            "application/vnd.jupyter.widget-view+json": {
              "model_id": "34f4cf4fe0b4466f8821c2e45193e6da",
              "version_minor": 0,
              "version_major": 2
            },
            "text/plain": [
              "HBox(children=(FloatProgress(value=0.0, max=8.0), HTML(value='')))"
            ]
          },
          "metadata": {
            "tags": []
          }
        },
        {
          "output_type": "stream",
          "text": [
            "\n"
          ],
          "name": "stdout"
        }
      ]
    },
    {
      "cell_type": "code",
      "metadata": {
        "colab": {
          "base_uri": "https://localhost:8080/",
          "height": 351
        },
        "id": "McuBSm0oWkdi",
        "outputId": "c696f2cd-c72d-4315-96cc-4f401cba530a"
      },
      "source": [
        "sns.set_style('darkgrid')\r\n",
        "\r\n",
        "plt.figure(figsize=(12,5))\r\n",
        "plt.scatter(range(3,11),scores,marker=\"o\",color=\"red\")\r\n",
        "plt.title(\"Relationship Between Accuracy score and Max Depth\")\r\n",
        "plt.plot(range(3,11),scores)\r\n",
        "plt.xlabel(\"Max depth\")\r\n",
        "plt.ylabel('Accuracy Score')\r\n"
      ],
      "execution_count": 33,
      "outputs": [
        {
          "output_type": "execute_result",
          "data": {
            "text/plain": [
              "Text(0, 0.5, 'Accuracy Score')"
            ]
          },
          "metadata": {
            "tags": []
          },
          "execution_count": 33
        },
        {
          "output_type": "display_data",
          "data": {
            "image/png": "[encoded data removed]",
            "text/plain": [
              "<Figure size 864x360 with 1 Axes>"
            ]
          },
          "metadata": {
            "tags": []
          }
        }
      ]
    },
    {
      "cell_type": "code",
      "metadata": {
        "id": "GQdFc1N_WkbD",
        "colab": {
          "base_uri": "https://localhost:8080/"
        },
        "outputId": "41056ddd-d339-49e0-8881-0d1a395be15d"
      },
      "source": [
        "max_depth = 5\r\n",
        "tree = CustomDecisionTreeClassifier(x_train,depth=1,max_depth=max_depth,target_column=target_column)\r\n",
        "g=tree\r\n",
        "\r\n",
        "def print_node(node):\r\n",
        "  \r\n",
        "  if node == None:\r\n",
        "    print('ss')\r\n",
        "    return \r\n",
        "  else:\r\n",
        "    print(node.fkey)\r\n",
        "  \r\n",
        "  if node:\r\n",
        "    print_node(node.right)\r\n",
        "    print_node(node.left)\r\n",
        "\r\n",
        "\r\n",
        "\r\n",
        "def print_level(tree , level):\r\n",
        "  if tree == None : return\r\n",
        "  if level is 1:\r\n",
        "    print(tree.fkey,end=\" \")\r\n",
        "  \r\n",
        "  print_level(tree.left,level-1)\r\n",
        "  print_level(tree.right,level-1)\r\n",
        "\r\n",
        "for i in range(1,max_depth+1):\r\n",
        "  print(f\"Level {i} ::: \",end=\" \")\r\n",
        "  print_level(tree,i)\r\n",
        "  print()"
      ],
      "execution_count": 73,
      "outputs": [
        {
          "output_type": "stream",
          "text": [
            "Level 1 :::  feature_0 \n",
            "Level 2 :::  feature_4 feature_0 \n",
            "Level 3 :::  feature_0 feature_4 feature_3 feature_2 \n",
            "Level 4 :::  feature_0 feature_2 feature_4 feature_0 feature_4 feature_6 feature_0 feature_2 \n",
            "Level 5 :::  feature_0 feature_0 feature_6 feature_3 feature_4 feature_0 feature_0 feature_0 feature_2 feature_4 feature_1 feature_4 feature_0 feature_0 feature_0 feature_5 \n"
          ],
          "name": "stdout"
        }
      ]
    }
  ]
}